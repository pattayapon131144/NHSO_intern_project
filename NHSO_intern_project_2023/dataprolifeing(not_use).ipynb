{
 "cells": [
  {
   "cell_type": "code",
   "execution_count": 1,
   "metadata": {},
   "outputs": [],
   "source": [
    "import pandas as pd\n",
    "import numpy as np\n",
    "import matplotlib.pyplot as plt\n",
    "import seaborn as sb\n",
    "%matplotlib inline\n",
    "plt.rcParams['font.family'] = 'tahoma'"
   ]
  },
  {
   "cell_type": "code",
   "execution_count": 2,
   "metadata": {},
   "outputs": [
    {
     "name": "stderr",
     "output_type": "stream",
     "text": [
      "C:\\Users\\Patta\\AppData\\Local\\Temp\\ipykernel_848\\1892034472.py:1: DtypeWarning: Columns (18,19,29,52) have mixed types. Specify dtype option on import or set low_memory=False.\n",
      "  train_df = pd.read_csv('v_t_eis_opannyw_detail.csv')\n"
     ]
    }
   ],
   "source": [
    "train_df = pd.read_csv('v_t_eis_opannyw_detail.csv')"
   ]
  },
  {
   "cell_type": "code",
   "execution_count": 3,
   "metadata": {},
   "outputs": [
    {
     "name": "stdout",
     "output_type": "stream",
     "text": [
      "Train set shape: (3143733, 55)\n"
     ]
    }
   ],
   "source": [
    "print('Train set shape:', train_df.shape)"
   ]
  },
  {
   "cell_type": "code",
   "execution_count": 4,
   "metadata": {},
   "outputs": [
    {
     "name": "stdout",
     "output_type": "stream",
     "text": [
      "['source' 'stmt_period' 'status' 'tran_id' 'demand_claim_opd' 'projcode'\n",
      " 'status_cardb' 'person_type' 'pid' 'sex' 'drg_nhso' 'age' 'age_cal'\n",
      " 'htype_use' 'hcode' 'htype' 'prov1' 'zone_hcode' 'hmain2' 'prov2'\n",
      " 'zone_hmain2' 'dateadm' 'datedsc' 'month_serv' 'year_serv' 'date_send'\n",
      " 'month_send' 'year_send' 'hmain_refer_in' 'hmain_refer_out' 'pdx' 'sdx1'\n",
      " 'proc1' 'rw_nhso' 'adjrw_nhso' 'sums_serviceitem' 'fund_af' 'sub_fund'\n",
      " 'item_code' 'item_source' 'cancel_payment' 'base_rate_type' 'sev_group'\n",
      " 'item_req_qty' 'item_pay_qty' 'charge_rule' 'pre_payment_act_amt'\n",
      " 'totl_amt' 'act_amt' 'pay_all' 'budgetcode' 'maininscl_af' 'subinscl_af'\n",
      " 'chkflag_af' 'd_update']\n"
     ]
    }
   ],
   "source": [
    "print(train_df.columns.values)"
   ]
  },
  {
   "cell_type": "code",
   "execution_count": 5,
   "metadata": {},
   "outputs": [
    {
     "data": {
      "text/plain": [
       "drg_nhso               100.00\n",
       "rw_nhso                100.00\n",
       "adjrw_nhso             100.00\n",
       "hmain_refer_out         99.63\n",
       "hmain_refer_in          98.97\n",
       "proc1                   77.20\n",
       "sdx1                    68.38\n",
       "demand_claim_opd        63.06\n",
       "sev_group               17.41\n",
       "item_pay_qty            16.94\n",
       "item_req_qty            16.94\n",
       "base_rate_type           1.20\n",
       "subinscl_af              0.65\n",
       "budgetcode               0.27\n",
       "status_cardb             0.06\n",
       "zone_hmain2              0.03\n",
       "chkflag_af               0.03\n",
       "hmain2                   0.03\n",
       "prov2                    0.03\n",
       "sub_fund                 0.00\n",
       "maininscl_af             0.00\n",
       "sums_serviceitem         0.00\n",
       "fund_af                  0.00\n",
       "act_amt                  0.00\n",
       "item_code                0.00\n",
       "item_source              0.00\n",
       "cancel_payment           0.00\n",
       "pay_all                  0.00\n",
       "charge_rule              0.00\n",
       "pre_payment_act_amt      0.00\n",
       "totl_amt                 0.00\n",
       "source                   0.00\n",
       "year_send                0.00\n",
       "pdx                      0.00\n",
       "stmt_period              0.00\n",
       "status                   0.00\n",
       "tran_id                  0.00\n",
       "projcode                 0.00\n",
       "person_type              0.00\n",
       "pid                      0.00\n",
       "sex                      0.00\n",
       "age                      0.00\n",
       "age_cal                  0.00\n",
       "htype_use                0.00\n",
       "hcode                    0.00\n",
       "htype                    0.00\n",
       "prov1                    0.00\n",
       "zone_hcode               0.00\n",
       "dateadm                  0.00\n",
       "datedsc                  0.00\n",
       "month_serv               0.00\n",
       "year_serv                0.00\n",
       "date_send                0.00\n",
       "month_send               0.00\n",
       "d_update                 0.00\n",
       "dtype: float64"
      ]
     },
     "execution_count": 5,
     "metadata": {},
     "output_type": "execute_result"
    }
   ],
   "source": [
    "round(train_df.isnull().sum()*100/len(train_df),2).sort_values(ascending=False)\n"
   ]
  },
  {
   "cell_type": "code",
   "execution_count": 6,
   "metadata": {},
   "outputs": [
    {
     "data": {
      "text/html": [
       "<div>\n",
       "<style scoped>\n",
       "    .dataframe tbody tr th:only-of-type {\n",
       "        vertical-align: middle;\n",
       "    }\n",
       "\n",
       "    .dataframe tbody tr th {\n",
       "        vertical-align: top;\n",
       "    }\n",
       "\n",
       "    .dataframe thead th {\n",
       "        text-align: right;\n",
       "    }\n",
       "</style>\n",
       "<table border=\"1\" class=\"dataframe\">\n",
       "  <thead>\n",
       "    <tr style=\"text-align: right;\">\n",
       "      <th></th>\n",
       "      <th>status</th>\n",
       "      <th>status_cardb</th>\n",
       "      <th>person_type</th>\n",
       "      <th>sex</th>\n",
       "      <th>drg_nhso</th>\n",
       "      <th>age</th>\n",
       "      <th>age_cal</th>\n",
       "      <th>hcode</th>\n",
       "      <th>htype</th>\n",
       "      <th>prov1</th>\n",
       "      <th>...</th>\n",
       "      <th>sums_serviceitem</th>\n",
       "      <th>sev_group</th>\n",
       "      <th>item_req_qty</th>\n",
       "      <th>item_pay_qty</th>\n",
       "      <th>charge_rule</th>\n",
       "      <th>pre_payment_act_amt</th>\n",
       "      <th>totl_amt</th>\n",
       "      <th>act_amt</th>\n",
       "      <th>pay_all</th>\n",
       "      <th>d_update</th>\n",
       "    </tr>\n",
       "  </thead>\n",
       "  <tbody>\n",
       "    <tr>\n",
       "      <th>count</th>\n",
       "      <td>3143733.0</td>\n",
       "      <td>3.141693e+06</td>\n",
       "      <td>3143733.0</td>\n",
       "      <td>3.143733e+06</td>\n",
       "      <td>0.0</td>\n",
       "      <td>3.143733e+06</td>\n",
       "      <td>3.143733e+06</td>\n",
       "      <td>3.143733e+06</td>\n",
       "      <td>3.143733e+06</td>\n",
       "      <td>3.143733e+06</td>\n",
       "      <td>...</td>\n",
       "      <td>3.143733e+06</td>\n",
       "      <td>2.596310e+06</td>\n",
       "      <td>2.611269e+06</td>\n",
       "      <td>2.611269e+06</td>\n",
       "      <td>3143700.0</td>\n",
       "      <td>3143700.0</td>\n",
       "      <td>3.143700e+06</td>\n",
       "      <td>3.143700e+06</td>\n",
       "      <td>3.143700e+06</td>\n",
       "      <td>3143733.0</td>\n",
       "    </tr>\n",
       "    <tr>\n",
       "      <th>mean</th>\n",
       "      <td>4.0</td>\n",
       "      <td>4.295816e+00</td>\n",
       "      <td>1.0</td>\n",
       "      <td>1.562746e+00</td>\n",
       "      <td>NaN</td>\n",
       "      <td>4.044237e+01</td>\n",
       "      <td>4.044237e+01</td>\n",
       "      <td>1.363428e+04</td>\n",
       "      <td>1.054174e+01</td>\n",
       "      <td>3.914418e+03</td>\n",
       "      <td>...</td>\n",
       "      <td>5.130525e+02</td>\n",
       "      <td>6.806061e+00</td>\n",
       "      <td>1.564734e+01</td>\n",
       "      <td>1.517721e+01</td>\n",
       "      <td>0.0</td>\n",
       "      <td>0.0</td>\n",
       "      <td>7.863256e+01</td>\n",
       "      <td>6.663271e+01</td>\n",
       "      <td>6.663271e+01</td>\n",
       "      <td>20230620.0</td>\n",
       "    </tr>\n",
       "    <tr>\n",
       "      <th>std</th>\n",
       "      <td>0.0</td>\n",
       "      <td>1.176236e+00</td>\n",
       "      <td>0.0</td>\n",
       "      <td>4.960474e-01</td>\n",
       "      <td>NaN</td>\n",
       "      <td>2.384950e+01</td>\n",
       "      <td>2.384950e+01</td>\n",
       "      <td>7.949467e+03</td>\n",
       "      <td>1.143744e+00</td>\n",
       "      <td>2.384310e+03</td>\n",
       "      <td>...</td>\n",
       "      <td>1.233696e+03</td>\n",
       "      <td>3.769190e+00</td>\n",
       "      <td>3.693300e+01</td>\n",
       "      <td>3.656201e+01</td>\n",
       "      <td>0.0</td>\n",
       "      <td>0.0</td>\n",
       "      <td>4.622232e+02</td>\n",
       "      <td>1.490379e+02</td>\n",
       "      <td>1.490379e+02</td>\n",
       "      <td>0.0</td>\n",
       "    </tr>\n",
       "    <tr>\n",
       "      <th>min</th>\n",
       "      <td>4.0</td>\n",
       "      <td>3.000000e+00</td>\n",
       "      <td>1.0</td>\n",
       "      <td>1.000000e+00</td>\n",
       "      <td>NaN</td>\n",
       "      <td>0.000000e+00</td>\n",
       "      <td>0.000000e+00</td>\n",
       "      <td>9.340000e+02</td>\n",
       "      <td>1.000000e+01</td>\n",
       "      <td>1.000000e+03</td>\n",
       "      <td>...</td>\n",
       "      <td>2.500000e-01</td>\n",
       "      <td>0.000000e+00</td>\n",
       "      <td>-2.000000e+01</td>\n",
       "      <td>-2.000000e+01</td>\n",
       "      <td>0.0</td>\n",
       "      <td>0.0</td>\n",
       "      <td>0.000000e+00</td>\n",
       "      <td>0.000000e+00</td>\n",
       "      <td>0.000000e+00</td>\n",
       "      <td>20230620.0</td>\n",
       "    </tr>\n",
       "    <tr>\n",
       "      <th>25%</th>\n",
       "      <td>4.0</td>\n",
       "      <td>4.000000e+00</td>\n",
       "      <td>1.0</td>\n",
       "      <td>1.000000e+00</td>\n",
       "      <td>NaN</td>\n",
       "      <td>2.000000e+01</td>\n",
       "      <td>2.000000e+01</td>\n",
       "      <td>1.069600e+04</td>\n",
       "      <td>1.000000e+01</td>\n",
       "      <td>2.300000e+03</td>\n",
       "      <td>...</td>\n",
       "      <td>1.575000e+02</td>\n",
       "      <td>4.000000e+00</td>\n",
       "      <td>1.000000e+00</td>\n",
       "      <td>1.000000e+00</td>\n",
       "      <td>0.0</td>\n",
       "      <td>0.0</td>\n",
       "      <td>1.000000e+01</td>\n",
       "      <td>5.000000e+00</td>\n",
       "      <td>5.000000e+00</td>\n",
       "      <td>20230620.0</td>\n",
       "    </tr>\n",
       "    <tr>\n",
       "      <th>50%</th>\n",
       "      <td>4.0</td>\n",
       "      <td>4.000000e+00</td>\n",
       "      <td>1.0</td>\n",
       "      <td>2.000000e+00</td>\n",
       "      <td>NaN</td>\n",
       "      <td>4.100000e+01</td>\n",
       "      <td>4.100000e+01</td>\n",
       "      <td>1.088500e+04</td>\n",
       "      <td>1.000000e+01</td>\n",
       "      <td>3.400000e+03</td>\n",
       "      <td>...</td>\n",
       "      <td>3.215000e+02</td>\n",
       "      <td>4.000000e+00</td>\n",
       "      <td>1.000000e+00</td>\n",
       "      <td>1.000000e+00</td>\n",
       "      <td>0.0</td>\n",
       "      <td>0.0</td>\n",
       "      <td>4.000000e+01</td>\n",
       "      <td>3.000000e+01</td>\n",
       "      <td>3.000000e+01</td>\n",
       "      <td>20230620.0</td>\n",
       "    </tr>\n",
       "    <tr>\n",
       "      <th>75%</th>\n",
       "      <td>4.0</td>\n",
       "      <td>4.000000e+00</td>\n",
       "      <td>1.0</td>\n",
       "      <td>2.000000e+00</td>\n",
       "      <td>NaN</td>\n",
       "      <td>6.100000e+01</td>\n",
       "      <td>6.100000e+01</td>\n",
       "      <td>1.365700e+04</td>\n",
       "      <td>1.000000e+01</td>\n",
       "      <td>5.000000e+03</td>\n",
       "      <td>...</td>\n",
       "      <td>6.717500e+02</td>\n",
       "      <td>1.200000e+01</td>\n",
       "      <td>2.000000e+01</td>\n",
       "      <td>1.500000e+01</td>\n",
       "      <td>0.0</td>\n",
       "      <td>0.0</td>\n",
       "      <td>1.000000e+02</td>\n",
       "      <td>1.000000e+02</td>\n",
       "      <td>1.000000e+02</td>\n",
       "      <td>20230620.0</td>\n",
       "    </tr>\n",
       "    <tr>\n",
       "      <th>max</th>\n",
       "      <td>4.0</td>\n",
       "      <td>1.200000e+01</td>\n",
       "      <td>1.0</td>\n",
       "      <td>2.000000e+00</td>\n",
       "      <td>NaN</td>\n",
       "      <td>1.240000e+02</td>\n",
       "      <td>1.240000e+02</td>\n",
       "      <td>7.776600e+04</td>\n",
       "      <td>1.600000e+01</td>\n",
       "      <td>9.600000e+03</td>\n",
       "      <td>...</td>\n",
       "      <td>5.001520e+05</td>\n",
       "      <td>1.900000e+01</td>\n",
       "      <td>2.800000e+03</td>\n",
       "      <td>2.800000e+03</td>\n",
       "      <td>0.0</td>\n",
       "      <td>0.0</td>\n",
       "      <td>5.000000e+05</td>\n",
       "      <td>6.066000e+04</td>\n",
       "      <td>6.066000e+04</td>\n",
       "      <td>20230620.0</td>\n",
       "    </tr>\n",
       "  </tbody>\n",
       "</table>\n",
       "<p>8 rows × 32 columns</p>\n",
       "</div>"
      ],
      "text/plain": [
       "          status  status_cardb  person_type           sex  drg_nhso  \\\n",
       "count  3143733.0  3.141693e+06    3143733.0  3.143733e+06       0.0   \n",
       "mean         4.0  4.295816e+00          1.0  1.562746e+00       NaN   \n",
       "std          0.0  1.176236e+00          0.0  4.960474e-01       NaN   \n",
       "min          4.0  3.000000e+00          1.0  1.000000e+00       NaN   \n",
       "25%          4.0  4.000000e+00          1.0  1.000000e+00       NaN   \n",
       "50%          4.0  4.000000e+00          1.0  2.000000e+00       NaN   \n",
       "75%          4.0  4.000000e+00          1.0  2.000000e+00       NaN   \n",
       "max          4.0  1.200000e+01          1.0  2.000000e+00       NaN   \n",
       "\n",
       "                age       age_cal         hcode         htype         prov1  \\\n",
       "count  3.143733e+06  3.143733e+06  3.143733e+06  3.143733e+06  3.143733e+06   \n",
       "mean   4.044237e+01  4.044237e+01  1.363428e+04  1.054174e+01  3.914418e+03   \n",
       "std    2.384950e+01  2.384950e+01  7.949467e+03  1.143744e+00  2.384310e+03   \n",
       "min    0.000000e+00  0.000000e+00  9.340000e+02  1.000000e+01  1.000000e+03   \n",
       "25%    2.000000e+01  2.000000e+01  1.069600e+04  1.000000e+01  2.300000e+03   \n",
       "50%    4.100000e+01  4.100000e+01  1.088500e+04  1.000000e+01  3.400000e+03   \n",
       "75%    6.100000e+01  6.100000e+01  1.365700e+04  1.000000e+01  5.000000e+03   \n",
       "max    1.240000e+02  1.240000e+02  7.776600e+04  1.600000e+01  9.600000e+03   \n",
       "\n",
       "       ...  sums_serviceitem     sev_group  item_req_qty  item_pay_qty  \\\n",
       "count  ...      3.143733e+06  2.596310e+06  2.611269e+06  2.611269e+06   \n",
       "mean   ...      5.130525e+02  6.806061e+00  1.564734e+01  1.517721e+01   \n",
       "std    ...      1.233696e+03  3.769190e+00  3.693300e+01  3.656201e+01   \n",
       "min    ...      2.500000e-01  0.000000e+00 -2.000000e+01 -2.000000e+01   \n",
       "25%    ...      1.575000e+02  4.000000e+00  1.000000e+00  1.000000e+00   \n",
       "50%    ...      3.215000e+02  4.000000e+00  1.000000e+00  1.000000e+00   \n",
       "75%    ...      6.717500e+02  1.200000e+01  2.000000e+01  1.500000e+01   \n",
       "max    ...      5.001520e+05  1.900000e+01  2.800000e+03  2.800000e+03   \n",
       "\n",
       "       charge_rule  pre_payment_act_amt      totl_amt       act_amt  \\\n",
       "count    3143700.0            3143700.0  3.143700e+06  3.143700e+06   \n",
       "mean           0.0                  0.0  7.863256e+01  6.663271e+01   \n",
       "std            0.0                  0.0  4.622232e+02  1.490379e+02   \n",
       "min            0.0                  0.0  0.000000e+00  0.000000e+00   \n",
       "25%            0.0                  0.0  1.000000e+01  5.000000e+00   \n",
       "50%            0.0                  0.0  4.000000e+01  3.000000e+01   \n",
       "75%            0.0                  0.0  1.000000e+02  1.000000e+02   \n",
       "max            0.0                  0.0  5.000000e+05  6.066000e+04   \n",
       "\n",
       "            pay_all    d_update  \n",
       "count  3.143700e+06   3143733.0  \n",
       "mean   6.663271e+01  20230620.0  \n",
       "std    1.490379e+02         0.0  \n",
       "min    0.000000e+00  20230620.0  \n",
       "25%    5.000000e+00  20230620.0  \n",
       "50%    3.000000e+01  20230620.0  \n",
       "75%    1.000000e+02  20230620.0  \n",
       "max    6.066000e+04  20230620.0  \n",
       "\n",
       "[8 rows x 32 columns]"
      ]
     },
     "execution_count": 6,
     "metadata": {},
     "output_type": "execute_result"
    }
   ],
   "source": [
    "train_df.describe()"
   ]
  },
  {
   "cell_type": "code",
   "execution_count": 7,
   "metadata": {},
   "outputs": [
    {
     "data": {
      "text/plain": [
       "(209473265.0500001,)"
      ]
     },
     "execution_count": 7,
     "metadata": {},
     "output_type": "execute_result"
    }
   ],
   "source": [
    "train_df.act_amt.sum() ,"
   ]
  },
  {
   "cell_type": "code",
   "execution_count": 8,
   "metadata": {},
   "outputs": [
    {
     "data": {
      "text/html": [
       "<div>\n",
       "<style scoped>\n",
       "    .dataframe tbody tr th:only-of-type {\n",
       "        vertical-align: middle;\n",
       "    }\n",
       "\n",
       "    .dataframe tbody tr th {\n",
       "        vertical-align: top;\n",
       "    }\n",
       "\n",
       "    .dataframe thead th {\n",
       "        text-align: right;\n",
       "    }\n",
       "</style>\n",
       "<table border=\"1\" class=\"dataframe\">\n",
       "  <thead>\n",
       "    <tr style=\"text-align: right;\">\n",
       "      <th></th>\n",
       "      <th>source</th>\n",
       "      <th>stmt_period</th>\n",
       "      <th>tran_id</th>\n",
       "      <th>demand_claim_opd</th>\n",
       "      <th>projcode</th>\n",
       "      <th>pid</th>\n",
       "      <th>htype_use</th>\n",
       "      <th>hmain2</th>\n",
       "      <th>prov2</th>\n",
       "      <th>hmain_refer_out</th>\n",
       "      <th>...</th>\n",
       "      <th>fund_af</th>\n",
       "      <th>sub_fund</th>\n",
       "      <th>item_code</th>\n",
       "      <th>item_source</th>\n",
       "      <th>cancel_payment</th>\n",
       "      <th>base_rate_type</th>\n",
       "      <th>budgetcode</th>\n",
       "      <th>maininscl_af</th>\n",
       "      <th>subinscl_af</th>\n",
       "      <th>chkflag_af</th>\n",
       "    </tr>\n",
       "  </thead>\n",
       "  <tbody>\n",
       "    <tr>\n",
       "      <th>count</th>\n",
       "      <td>3143733</td>\n",
       "      <td>3143733</td>\n",
       "      <td>3143733</td>\n",
       "      <td>1161310</td>\n",
       "      <td>3143733</td>\n",
       "      <td>3143733</td>\n",
       "      <td>3143733</td>\n",
       "      <td>3142914</td>\n",
       "      <td>3142914</td>\n",
       "      <td>11513.0</td>\n",
       "      <td>...</td>\n",
       "      <td>3143700</td>\n",
       "      <td>3143733</td>\n",
       "      <td>3143733</td>\n",
       "      <td>3143700</td>\n",
       "      <td>3143733</td>\n",
       "      <td>3106126</td>\n",
       "      <td>3135164</td>\n",
       "      <td>3143733</td>\n",
       "      <td>3123329</td>\n",
       "      <td>3142827</td>\n",
       "    </tr>\n",
       "    <tr>\n",
       "      <th>unique</th>\n",
       "      <td>2</td>\n",
       "      <td>51</td>\n",
       "      <td>661648</td>\n",
       "      <td>13</td>\n",
       "      <td>3</td>\n",
       "      <td>458731</td>\n",
       "      <td>8</td>\n",
       "      <td>2235</td>\n",
       "      <td>157</td>\n",
       "      <td>249.0</td>\n",
       "      <td>...</td>\n",
       "      <td>24</td>\n",
       "      <td>66</td>\n",
       "      <td>32653</td>\n",
       "      <td>12</td>\n",
       "      <td>3</td>\n",
       "      <td>2</td>\n",
       "      <td>47</td>\n",
       "      <td>9</td>\n",
       "      <td>78</td>\n",
       "      <td>8</td>\n",
       "    </tr>\n",
       "    <tr>\n",
       "      <th>top</th>\n",
       "      <td>N</td>\n",
       "      <td>6606_OP_01</td>\n",
       "      <td>8ef9c4a2b591ea06a0b004ec85d930151dfae86d6b40ee...</td>\n",
       "      <td>N||</td>\n",
       "      <td>WALKIN</td>\n",
       "      <td>6a6330753d5dc2bad1d0db7ae565dccb7d3548465fb710...</td>\n",
       "      <td>รพท.</td>\n",
       "      <td>10846</td>\n",
       "      <td>1000</td>\n",
       "      <td>10695.0</td>\n",
       "      <td>...</td>\n",
       "      <td>HC16</td>\n",
       "      <td>WALKIN_DRUG_OTHER</td>\n",
       "      <td>HC16</td>\n",
       "      <td>M_DRUG</td>\n",
       "      <td>N</td>\n",
       "      <td>FEE_F</td>\n",
       "      <td>66-04-06-01-06700-07-01</td>\n",
       "      <td>WEL</td>\n",
       "      <td>89</td>\n",
       "      <td>1</td>\n",
       "    </tr>\n",
       "    <tr>\n",
       "      <th>freq</th>\n",
       "      <td>3039805</td>\n",
       "      <td>183767</td>\n",
       "      <td>54</td>\n",
       "      <td>631657</td>\n",
       "      <td>2648910</td>\n",
       "      <td>648</td>\n",
       "      <td>1180970</td>\n",
       "      <td>83797</td>\n",
       "      <td>296555</td>\n",
       "      <td>1392.0</td>\n",
       "      <td>...</td>\n",
       "      <td>3120865</td>\n",
       "      <td>1031727</td>\n",
       "      <td>532431</td>\n",
       "      <td>1396128</td>\n",
       "      <td>3129423</td>\n",
       "      <td>2271219</td>\n",
       "      <td>1797083</td>\n",
       "      <td>1788412</td>\n",
       "      <td>1283800</td>\n",
       "      <td>2516850</td>\n",
       "    </tr>\n",
       "  </tbody>\n",
       "</table>\n",
       "<p>4 rows × 23 columns</p>\n",
       "</div>"
      ],
      "text/plain": [
       "         source stmt_period  \\\n",
       "count   3143733     3143733   \n",
       "unique        2          51   \n",
       "top           N  6606_OP_01   \n",
       "freq    3039805      183767   \n",
       "\n",
       "                                                  tran_id demand_claim_opd  \\\n",
       "count                                             3143733          1161310   \n",
       "unique                                             661648               13   \n",
       "top     8ef9c4a2b591ea06a0b004ec85d930151dfae86d6b40ee...              N||   \n",
       "freq                                                   54           631657   \n",
       "\n",
       "       projcode                                                pid htype_use  \\\n",
       "count   3143733                                            3143733   3143733   \n",
       "unique        3                                             458731         8   \n",
       "top      WALKIN  6a6330753d5dc2bad1d0db7ae565dccb7d3548465fb710...      รพท.   \n",
       "freq    2648910                                                648   1180970   \n",
       "\n",
       "         hmain2    prov2  hmain_refer_out  ...  fund_af           sub_fund  \\\n",
       "count   3142914  3142914          11513.0  ...  3143700            3143733   \n",
       "unique     2235      157            249.0  ...       24                 66   \n",
       "top       10846     1000          10695.0  ...     HC16  WALKIN_DRUG_OTHER   \n",
       "freq      83797   296555           1392.0  ...  3120865            1031727   \n",
       "\n",
       "       item_code item_source cancel_payment base_rate_type  \\\n",
       "count    3143733     3143700        3143733        3106126   \n",
       "unique     32653          12              3              2   \n",
       "top         HC16      M_DRUG              N          FEE_F   \n",
       "freq      532431     1396128        3129423        2271219   \n",
       "\n",
       "                     budgetcode maininscl_af subinscl_af chkflag_af  \n",
       "count                   3135164      3143733     3123329    3142827  \n",
       "unique                       47            9          78          8  \n",
       "top     66-04-06-01-06700-07-01          WEL          89          1  \n",
       "freq                    1797083      1788412     1283800    2516850  \n",
       "\n",
       "[4 rows x 23 columns]"
      ]
     },
     "execution_count": 8,
     "metadata": {},
     "output_type": "execute_result"
    }
   ],
   "source": [
    "train_df.describe(include=['O'])"
   ]
  },
  {
   "cell_type": "code",
   "execution_count": 9,
   "metadata": {},
   "outputs": [
    {
     "data": {
      "text/plain": [
       "tran_id                661648\n",
       "pid                    458731\n",
       "item_code               32653\n",
       "sdx1                    24822\n",
       "sums_serviceitem        18206\n",
       "proc1                    9912\n",
       "pdx                      6904\n",
       "totl_amt                 4747\n",
       "act_amt                  3902\n",
       "pay_all                  3902\n",
       "hcode                    2609\n",
       "hmain2                   2235\n",
       "datedsc                   896\n",
       "dateadm                   896\n",
       "date_send                 860\n",
       "hmain_refer_in            525\n",
       "item_req_qty              428\n",
       "item_pay_qty              426\n",
       "hmain_refer_out           249\n",
       "prov2                     157\n",
       "age                       112\n",
       "age_cal                   112\n",
       "subinscl_af                78\n",
       "prov1                      77\n",
       "sub_fund                   66\n",
       "stmt_period                51\n",
       "budgetcode                 47\n",
       "month_serv                 30\n",
       "month_send                 30\n",
       "fund_af                    24\n",
       "sev_group                  18\n",
       "zone_hmain2                15\n",
       "demand_claim_opd           13\n",
       "zone_hcode                 13\n",
       "item_source                12\n",
       "status_cardb               10\n",
       "maininscl_af                9\n",
       "htype_use                   8\n",
       "chkflag_af                  8\n",
       "htype                       5\n",
       "projcode                    3\n",
       "year_serv                   3\n",
       "cancel_payment              3\n",
       "year_send                   3\n",
       "source                      2\n",
       "base_rate_type              2\n",
       "sex                         2\n",
       "charge_rule                 1\n",
       "pre_payment_act_amt         1\n",
       "person_type                 1\n",
       "status                      1\n",
       "d_update                    1\n",
       "adjrw_nhso                  0\n",
       "rw_nhso                     0\n",
       "drg_nhso                    0\n",
       "dtype: int64"
      ]
     },
     "execution_count": 9,
     "metadata": {},
     "output_type": "execute_result"
    }
   ],
   "source": [
    "train_df.nunique().sort_values(ascending=False)"
   ]
  },
  {
   "cell_type": "code",
   "execution_count": 10,
   "metadata": {},
   "outputs": [
    {
     "name": "stdout",
     "output_type": "stream",
     "text": [
      "TRAIN SET MISSING VALUES:\n",
      "source                       0\n",
      "stmt_period                  0\n",
      "status                       0\n",
      "tran_id                      0\n",
      "demand_claim_opd       1982423\n",
      "projcode                     0\n",
      "status_cardb              2040\n",
      "person_type                  0\n",
      "pid                          0\n",
      "sex                          0\n",
      "drg_nhso               3143733\n",
      "age                          0\n",
      "age_cal                      0\n",
      "htype_use                    0\n",
      "hcode                        0\n",
      "htype                        0\n",
      "prov1                        0\n",
      "zone_hcode                   0\n",
      "hmain2                     819\n",
      "prov2                      819\n",
      "zone_hmain2                819\n",
      "dateadm                      0\n",
      "datedsc                      0\n",
      "month_serv                   0\n",
      "year_serv                    0\n",
      "date_send                    0\n",
      "month_send                   0\n",
      "year_send                    0\n",
      "hmain_refer_in         3111485\n",
      "hmain_refer_out        3132220\n",
      "pdx                          0\n",
      "sdx1                   2149559\n",
      "proc1                  2426902\n",
      "rw_nhso                3143733\n",
      "adjrw_nhso             3143733\n",
      "sums_serviceitem             0\n",
      "fund_af                     33\n",
      "sub_fund                     0\n",
      "item_code                    0\n",
      "item_source                 33\n",
      "cancel_payment               0\n",
      "base_rate_type           37607\n",
      "sev_group               547423\n",
      "item_req_qty            532464\n",
      "item_pay_qty            532464\n",
      "charge_rule                 33\n",
      "pre_payment_act_amt         33\n",
      "totl_amt                    33\n",
      "act_amt                     33\n",
      "pay_all                     33\n",
      "budgetcode                8569\n",
      "maininscl_af                 0\n",
      "subinscl_af              20404\n",
      "chkflag_af                 906\n",
      "d_update                     0\n",
      "dtype: int64\n"
     ]
    }
   ],
   "source": [
    "print('TRAIN SET MISSING VALUES:')\n",
    "print(train_df.isna().sum())"
   ]
  },
  {
   "cell_type": "code",
   "execution_count": 11,
   "metadata": {},
   "outputs": [
    {
     "data": {
      "text/plain": [
       "source                      2\n",
       "stmt_period                51\n",
       "status                      1\n",
       "tran_id                661648\n",
       "demand_claim_opd           13\n",
       "projcode                    3\n",
       "status_cardb               10\n",
       "person_type                 1\n",
       "pid                    458731\n",
       "sex                         2\n",
       "drg_nhso                    0\n",
       "age                       112\n",
       "age_cal                   112\n",
       "htype_use                   8\n",
       "hcode                    2609\n",
       "htype                       5\n",
       "prov1                      77\n",
       "zone_hcode                 13\n",
       "hmain2                   2235\n",
       "prov2                     157\n",
       "zone_hmain2                15\n",
       "dateadm                   896\n",
       "datedsc                   896\n",
       "month_serv                 30\n",
       "year_serv                   3\n",
       "date_send                 860\n",
       "month_send                 30\n",
       "year_send                   3\n",
       "hmain_refer_in            525\n",
       "hmain_refer_out           249\n",
       "pdx                      6904\n",
       "sdx1                    24822\n",
       "proc1                    9912\n",
       "rw_nhso                     0\n",
       "adjrw_nhso                  0\n",
       "sums_serviceitem        18206\n",
       "fund_af                    24\n",
       "sub_fund                   66\n",
       "item_code               32653\n",
       "item_source                12\n",
       "cancel_payment              3\n",
       "base_rate_type              2\n",
       "sev_group                  18\n",
       "item_req_qty              428\n",
       "item_pay_qty              426\n",
       "charge_rule                 1\n",
       "pre_payment_act_amt         1\n",
       "totl_amt                 4747\n",
       "act_amt                  3902\n",
       "pay_all                  3902\n",
       "budgetcode                 47\n",
       "maininscl_af                9\n",
       "subinscl_af                78\n",
       "chkflag_af                  8\n",
       "d_update                    1\n",
       "dtype: int64"
      ]
     },
     "execution_count": 11,
     "metadata": {},
     "output_type": "execute_result"
    }
   ],
   "source": [
    "train_df.nunique()"
   ]
  },
  {
   "cell_type": "code",
   "execution_count": 12,
   "metadata": {},
   "outputs": [
    {
     "data": {
      "text/plain": [
       "source                  object\n",
       "stmt_period             object\n",
       "status                   int64\n",
       "tran_id                 object\n",
       "demand_claim_opd        object\n",
       "projcode                object\n",
       "status_cardb           float64\n",
       "person_type              int64\n",
       "pid                     object\n",
       "sex                      int64\n",
       "drg_nhso               float64\n",
       "age                      int64\n",
       "age_cal                  int64\n",
       "htype_use               object\n",
       "hcode                    int64\n",
       "htype                    int64\n",
       "prov1                    int64\n",
       "zone_hcode               int64\n",
       "hmain2                  object\n",
       "prov2                   object\n",
       "zone_hmain2            float64\n",
       "dateadm                  int64\n",
       "datedsc                  int64\n",
       "month_serv               int64\n",
       "year_serv                int64\n",
       "date_send                int64\n",
       "month_send               int64\n",
       "year_send                int64\n",
       "hmain_refer_in         float64\n",
       "hmain_refer_out         object\n",
       "pdx                     object\n",
       "sdx1                    object\n",
       "proc1                   object\n",
       "rw_nhso                float64\n",
       "adjrw_nhso             float64\n",
       "sums_serviceitem       float64\n",
       "fund_af                 object\n",
       "sub_fund                object\n",
       "item_code               object\n",
       "item_source             object\n",
       "cancel_payment          object\n",
       "base_rate_type          object\n",
       "sev_group              float64\n",
       "item_req_qty           float64\n",
       "item_pay_qty           float64\n",
       "charge_rule            float64\n",
       "pre_payment_act_amt    float64\n",
       "totl_amt               float64\n",
       "act_amt                float64\n",
       "pay_all                float64\n",
       "budgetcode              object\n",
       "maininscl_af            object\n",
       "subinscl_af             object\n",
       "chkflag_af              object\n",
       "d_update                 int64\n",
       "dtype: object"
      ]
     },
     "execution_count": 12,
     "metadata": {},
     "output_type": "execute_result"
    }
   ],
   "source": [
    "train_df.dtypes\n"
   ]
  },
  {
   "cell_type": "code",
   "execution_count": 13,
   "metadata": {},
   "outputs": [
    {
     "data": {
      "text/plain": [
       "Text(0.5, 1.0, 'Target distribution')"
      ]
     },
     "execution_count": 13,
     "metadata": {},
     "output_type": "execute_result"
    },
    {
     "data": {
      "image/png": "[encoded data removed]",
      "text/plain": [
       "<Figure size 300x400 with 1 Axes>"
      ]
     },
     "metadata": {},
     "output_type": "display_data"
    }
   ],
   "source": [
    "plt.figure(figsize=(3,4))\n",
    "\n",
    "# Pie plot\n",
    "train_df['sex'].value_counts().plot.pie(explode=[0.1,0.1], autopct='%1.1f%%', shadow=True, textprops={'fontsize':16}).set_title(\"Target distribution\")"
   ]
  },
  {
   "cell_type": "code",
   "execution_count": 14,
   "metadata": {},
   "outputs": [
    {
     "data": {
      "text/plain": [
       "Text(0.5, 0, 'Age (years)')"
      ]
     },
     "execution_count": 14,
     "metadata": {},
     "output_type": "execute_result"
    },
    {
     "data": {
      "image/png": "[encoded data removed]",
      "text/plain": [
       "<Figure size 1000x400 with 1 Axes>"
      ]
     },
     "metadata": {},
     "output_type": "display_data"
    }
   ],
   "source": [
    "# Figure size\n",
    "plt.figure(figsize=(10,4))\n",
    "\n",
    "# Histogram\n",
    "sb.histplot(data=train_df, x='age', binwidth=1, kde=True)\n",
    "\n",
    "# Aesthetics\n",
    "plt.title('Age distribution')\n",
    "plt.xlabel('Age (years)')"
   ]
  },
  {
   "cell_type": "code",
   "execution_count": 15,
   "metadata": {},
   "outputs": [
    {
     "data": {
      "image/png": "[encoded data removed]",
      "text/plain": [
       "<Figure size 2000x2000 with 2 Axes>"
      ]
     },
     "metadata": {},
     "output_type": "display_data"
    }
   ],
   "source": [
    "# Expenditure features\n",
    "exp_feats=['htype_use', 'zone_hcode']\n",
    "\n",
    "# Plot expenditure features\n",
    "fig=plt.figure(figsize=(20,20))\n",
    "for i, var_name in enumerate(exp_feats):\n",
    "    # Left plot\n",
    "    ax=fig.add_subplot(5,2,2*i+1)\n",
    "    sb.histplot(data=train_df, x=var_name, axes=ax, bins=30, kde=False)\n",
    "    ax.set_title(var_name)\n",
    "    \n",
    "fig.tight_layout()  # Improves appearance a bit\n",
    "plt.show()"
   ]
  },
  {
   "cell_type": "code",
   "execution_count": 16,
   "metadata": {},
   "outputs": [
    {
     "data": {
      "image/png": "[encoded data removed]",
      "text/plain": [
       "<Figure size 1000x1600 with 1 Axes>"
      ]
     },
     "metadata": {},
     "output_type": "display_data"
    }
   ],
   "source": [
    "# Categorical features\n",
    "cat_feats=['zone_hcode']\n",
    "\n",
    "# Plot categorical features\n",
    "fig=plt.figure(figsize=(10,16))\n",
    "for i, var_name in enumerate(cat_feats):\n",
    "    ax=fig.add_subplot(4,1,i+1)\n",
    "    sb.countplot(data=train_df, x=var_name, axes=ax, hue='htype_use')\n",
    "    ax.set_title(var_name)\n",
    "fig.tight_layout()  # Improves appearance a bit\n",
    "plt.show()"
   ]
  },
  {
   "cell_type": "code",
   "execution_count": 17,
   "metadata": {},
   "outputs": [
    {
     "data": {
      "text/html": [
       "<div>\n",
       "<style scoped>\n",
       "    .dataframe tbody tr th:only-of-type {\n",
       "        vertical-align: middle;\n",
       "    }\n",
       "\n",
       "    .dataframe tbody tr th {\n",
       "        vertical-align: top;\n",
       "    }\n",
       "\n",
       "    .dataframe thead th {\n",
       "        text-align: right;\n",
       "    }\n",
       "</style>\n",
       "<table border=\"1\" class=\"dataframe\">\n",
       "  <thead>\n",
       "    <tr style=\"text-align: right;\">\n",
       "      <th></th>\n",
       "      <th>month_serv</th>\n",
       "      <th>zone_hcode</th>\n",
       "      <th>htype_use</th>\n",
       "    </tr>\n",
       "  </thead>\n",
       "  <tbody>\n",
       "    <tr>\n",
       "      <th>0</th>\n",
       "      <td>256602</td>\n",
       "      <td>10</td>\n",
       "      <td>รพช.</td>\n",
       "    </tr>\n",
       "    <tr>\n",
       "      <th>1</th>\n",
       "      <td>256602</td>\n",
       "      <td>8</td>\n",
       "      <td>รพช.</td>\n",
       "    </tr>\n",
       "    <tr>\n",
       "      <th>2</th>\n",
       "      <td>256509</td>\n",
       "      <td>8</td>\n",
       "      <td>รพท.</td>\n",
       "    </tr>\n",
       "    <tr>\n",
       "      <th>3</th>\n",
       "      <td>256602</td>\n",
       "      <td>8</td>\n",
       "      <td>รพช.</td>\n",
       "    </tr>\n",
       "    <tr>\n",
       "      <th>4</th>\n",
       "      <td>256508</td>\n",
       "      <td>13</td>\n",
       "      <td>อื่นๆ</td>\n",
       "    </tr>\n",
       "  </tbody>\n",
       "</table>\n",
       "</div>"
      ],
      "text/plain": [
       "   month_serv  zone_hcode htype_use\n",
       "0      256602          10      รพช.\n",
       "1      256602           8      รพช.\n",
       "2      256509           8      รพท.\n",
       "3      256602           8      รพช.\n",
       "4      256508          13     อื่นๆ"
      ]
     },
     "execution_count": 17,
     "metadata": {},
     "output_type": "execute_result"
    }
   ],
   "source": [
    "qual_feats=['month_serv', 'zone_hcode' ,'htype_use']\n",
    "train_df[qual_feats].head()"
   ]
  },
  {
   "cell_type": "code",
   "execution_count": 18,
   "metadata": {},
   "outputs": [
    {
     "name": "stdout",
     "output_type": "stream",
     "text": [
      "    zone_hcode  number\n",
      "0            1  263413\n",
      "1            2  102367\n",
      "2            3   32371\n",
      "3            4  134868\n",
      "4            5   54756\n",
      "5            6  388486\n",
      "6            7  151536\n",
      "7            8  407676\n",
      "8            9  571549\n",
      "9           10  133798\n",
      "10          11  231803\n",
      "11          12  170694\n",
      "12          13  500416\n"
     ]
    },
    {
     "data": {
      "image/png": "[encoded data removed]",
      "text/plain": [
       "<Figure size 1000x600 with 1 Axes>"
      ]
     },
     "metadata": {},
     "output_type": "display_data"
    }
   ],
   "source": [
    "htype_use_result = train_df.groupby('zone_hcode').size().reset_index(name='number')\n",
    "print(htype_use_result)\n",
    "\n",
    "\n",
    "plt.figure(figsize=(10, 6))\n",
    "plt.bar(htype_use_result['zone_hcode'], htype_use_result['number'])\n",
    "plt.xlabel('เขตของหน่วยบริการ')\n",
    "plt.ylabel('จำนวนการใช้งาน (ครั้ง)')\n",
    "plt.title('Histogram of htype_use')\n",
    "plt.show()\n",
    "\n"
   ]
  },
  {
   "cell_type": "code",
   "execution_count": 19,
   "metadata": {},
   "outputs": [],
   "source": [
    "zone_hcode_result = train_df.groupby('zone_hcode').agg(\n",
    "    hprivite=('htype_use', lambda x: sum(x == 'รพ.(เอกชน)')),\n",
    "    cilnic=('htype_use', lambda x: sum(x == 'คลินิก(เอกชน)')),\n",
    "    etc=('htype_use', lambda x: sum(x == 'อื่นๆ'))\n",
    ").reset_index() \n"
   ]
  },
  {
   "cell_type": "code",
   "execution_count": 20,
   "metadata": {},
   "outputs": [
    {
     "name": "stdout",
     "output_type": "stream",
     "text": [
      "0          25660216\n",
      "1          25660224\n",
      "2          25650920\n",
      "3          25660220\n",
      "4          25650816\n",
      "             ...   \n",
      "3143728    25660601\n",
      "3143729    25660601\n",
      "3143730    25660601\n",
      "3143731    25660601\n",
      "3143732    25660601\n",
      "Name: dateadm, Length: 3143733, dtype: int64\n"
     ]
    }
   ],
   "source": [
    "print(train_df['dateadm']) \n",
    "from datetime import datetime\n"
   ]
  },
  {
   "cell_type": "code",
   "execution_count": 21,
   "metadata": {},
   "outputs": [
    {
     "name": "stdout",
     "output_type": "stream",
     "text": [
      "         year month day yearmonth\n",
      "0        2566    02  16    256602\n",
      "1        2566    02  24    256602\n",
      "2        2565    09  20    256509\n",
      "3        2566    02  20    256602\n",
      "4        2565    08  16    256508\n",
      "...       ...   ...  ..       ...\n",
      "3143728  2566    06  01    256606\n",
      "3143729  2566    06  01    256606\n",
      "3143730  2566    06  01    256606\n",
      "3143731  2566    06  01    256606\n",
      "3143732  2566    06  01    256606\n",
      "\n",
      "[3143733 rows x 4 columns]\n"
     ]
    }
   ],
   "source": [
    "# Convert 'dateadm' column to string format\n",
    "train_df['dateadm'] = train_df['dateadm'].astype(str)\n",
    "\n",
    "# Extract year, month, and day from 'dateadm' column\n",
    "train_df['year'] = train_df['dateadm'].str[:4]\n",
    "train_df['month'] = train_df['dateadm'].str[4:6]\n",
    "train_df['day'] = train_df['dateadm'].str[6:]\n",
    "train_df['yearmonth'] = train_df['dateadm'].str[:6]\n",
    "\n",
    "# Print the modified DataFrame\n",
    "print(train_df[['year', 'month', 'day','yearmonth']])\n",
    "\n"
   ]
  },
  {
   "cell_type": "code",
   "execution_count": 22,
   "metadata": {},
   "outputs": [],
   "source": [
    "#print(train_df['year']) \n",
    "#เช็คจำนวนคอลัมน์ที่เพิ่มเข้ามา\n",
    "#print('Train set shape:', train_df.shape)"
   ]
  },
  {
   "cell_type": "code",
   "execution_count": 23,
   "metadata": {},
   "outputs": [
    {
     "name": "stdout",
     "output_type": "stream",
     "text": [
      "   year  hprivite  cilnic     etc\n",
      "0  2564         0       0   24639\n",
      "1  2565     11243   18625  429320\n",
      "2  2566     11579   60008  157465\n"
     ]
    },
    {
     "data": {
      "image/png": "[encoded data removed]",
      "text/plain": [
       "<Figure size 1000x600 with 1 Axes>"
      ]
     },
     "metadata": {},
     "output_type": "display_data"
    }
   ],
   "source": [
    "year_result = train_df.groupby('year').agg(\n",
    "    hprivite=('htype_use', lambda x: sum(x == 'รพ.(เอกชน)')),\n",
    "    cilnic=('htype_use', lambda x: sum(x == 'คลินิก(เอกชน)')),\n",
    "    etc=('htype_use', lambda x: sum(x == 'อื่นๆ'))\n",
    ").reset_index()\n",
    "\n",
    "# Print the result\n",
    "print(year_result)\n",
    "\n",
    "\n",
    "\n",
    "years = year_result['year']\n",
    "hprivite_counts = year_result['hprivite']\n",
    "cilnic_counts = year_result['cilnic']\n",
    "etc_counts = year_result['etc']\n",
    "\n",
    "# Set the width of each bar\n",
    "bar_width = 0.25\n",
    "\n",
    "# Set the positions of the bars on the x-axis\n",
    "r1 = np.arange(len(years))\n",
    "r2 = [x + bar_width for x in r1]\n",
    "r3 = [x + bar_width for x in r2]\n",
    "\n",
    "# Plot the bars\n",
    "plt.figure(figsize=(10, 6))\n",
    "plt.bar(r1, hprivite_counts, color='b', width=bar_width, label='รพ.(เอกชน)')\n",
    "plt.bar(r2, cilnic_counts, color='g', width=bar_width, label='คลินิก(เอกชน)')\n",
    "plt.bar(r3, etc_counts, color='r', width=bar_width, label='อื่นๆ')\n",
    "\n",
    "# Set x-axis ticks and labels\n",
    "plt.xticks([r + bar_width for r in range(len(years))], years)\n",
    "\n",
    "plt.xlabel('Year')\n",
    "plt.ylabel('Count')\n",
    "plt.title('Bar Graph of htype_use by Year')\n",
    "plt.legend()\n",
    "plt.show()\n",
    "\n"
   ]
  },
  {
   "cell_type": "code",
   "execution_count": 24,
   "metadata": {},
   "outputs": [
    {
     "name": "stdout",
     "output_type": "stream",
     "text": [
      "   yearmonth  hprivite  cilnic     etc  uhosnet\n",
      "0     256401         0       0    2958        0\n",
      "1     256402         0       0    2027        0\n",
      "2     256403         0       0    1857        0\n",
      "3     256404         0       0    1627        0\n",
      "4     256405         0       0    1036        0\n",
      "5     256406         0       0    2225        0\n",
      "6     256407         0       0    1845        0\n",
      "7     256408         0       0    2002        0\n",
      "8     256409         0       0    2064        0\n",
      "9     256410         0       0    1852        0\n",
      "10    256411         0       0    2211        0\n",
      "11    256412         0       0    2935        0\n",
      "12    256501        15     179    4595        0\n",
      "13    256502         0      38    5001       49\n",
      "14    256503         4      66    6909       50\n",
      "15    256504         1      55    5141       72\n",
      "16    256505        14     130   24776       14\n",
      "17    256506         0     463  100843      200\n",
      "18    256507        84    1481   94698     2174\n",
      "19    256508       137    2137   56395      967\n",
      "20    256509       260    1396   28984      398\n",
      "21    256510       149    3045   23219      272\n",
      "22    256511      6482    4853   39061      255\n",
      "23    256512      4097    4782   39698     1366\n",
      "24    256601      3607    4749   38549      628\n",
      "25    256602      3133    4491   38450      397\n",
      "26    256603      2924   18877   28252      181\n",
      "27    256604      1544   17135   21558      212\n",
      "28    256605       371   10368   21550      283\n",
      "29    256606         0    4388    9106        0\n"
     ]
    }
   ],
   "source": [
    "yearmonth_result = train_df.groupby('yearmonth').agg(\n",
    "    hprivite=('htype_use', lambda x: sum(x == 'รพ.(เอกชน)')),\n",
    "    cilnic=('htype_use', lambda x: sum(x == 'คลินิก(เอกชน)')),\n",
    "    etc=('htype_use', lambda x: sum(x == 'อื่นๆ')),\n",
    "    uhosnet=('htype_use', lambda x: sum(x == 'UHOSNET'))\n",
    ").reset_index()\n",
    "\n",
    "# Print the result\n",
    "print(yearmonth_result)\n",
    "\n"
   ]
  },
  {
   "cell_type": "markdown",
   "metadata": {},
   "source": [
    "# \"การเข้าถึงบริการ\" ในเขตพื้นที่ กทม."
   ]
  },
  {
   "cell_type": "code",
   "execution_count": 25,
   "metadata": {},
   "outputs": [
    {
     "name": "stdout",
     "output_type": "stream",
     "text": [
      "       htype_use   เขต13\n",
      "0        UHOSNET     102\n",
      "1  คลินิก(เอกชน)   22615\n",
      "2     รพ.(เอกชน)    7433\n",
      "3          อื่นๆ  135775\n"
     ]
    }
   ],
   "source": [
    "import pandas as pd\n",
    "\n",
    "conditions = (\n",
    "    (train_df['zone_hcode'] == 13) &\n",
    "    (train_df['status'] == 4) &\n",
    "    (train_df['sub_fund'].isin(['R9OPFS', 'WALKIN'])) &\n",
    "    (train_df['projcode'].isin(['WALKIN', 'R9OPFS'])) &\n",
    "    (train_df['cancel_payment'].isin(['N', 'x']))\n",
    ")\n",
    "\n",
    "# ดึงข้อมูลที่เข้าร่วมเงื่อนไข\n",
    "filtered_data = train_df[conditions]\n",
    "\n",
    "# นับจำนวนแถวตาม htype_use\n",
    "htyperesult = filtered_data.groupby('htype_use').size().reset_index(name='เขต13')\n",
    "\n",
    "print(htyperesult)"
   ]
  },
  {
   "cell_type": "code",
   "execution_count": 26,
   "metadata": {},
   "outputs": [
    {
     "data": {
      "image/png": "[encoded data removed]",
      "text/plain": [
       "<Figure size 640x480 with 1 Axes>"
      ]
     },
     "metadata": {},
     "output_type": "display_data"
    }
   ],
   "source": [
    "hprivite = 7433\n",
    "cilnic = 22615\n",
    "etc = 135775\n",
    "uhosnet = 102\n",
    "# สร้างข้อมูลและเลือกสี\n",
    "labels = ['รพ.(เอกชน)', 'คลินิก(เอกชน)', 'อื่น ๆ ',' UHOSNET ']\n",
    "sizes = [hprivite, cilnic, etc , uhosnet]\n",
    "colors = ['lightblue', 'lightgreen', 'lightcoral' , 'lightyellow']\n",
    "\n",
    "# พล็อตกราฟวงกลม\n",
    "plt.pie(sizes, labels=labels, colors=colors, autopct='%1.1f%%', startangle=180)\n",
    "\n",
    "# เพิ่มรายละเอียดกราฟ\n",
    "plt.title('เขต 13 กรุงเทพมหานคร')\n",
    "plt.axis('equal')\n",
    "\n",
    "# แสดงกราฟวงกลม\n",
    "plt.show()\n"
   ]
  },
  {
   "cell_type": "code",
   "execution_count": 27,
   "metadata": {},
   "outputs": [
    {
     "data": {
      "image/png": "[encoded data removed]",
      "text/plain": [
       "<Figure size 640x480 with 1 Axes>"
      ]
     },
     "metadata": {},
     "output_type": "display_data"
    }
   ],
   "source": [
    "# ตัวแปรที่ใช้สร้างกราฟแท่ง\n",
    "categories = ['รพ.(เอกชน)', 'คลินิก(เอกชน)', 'อื่น ๆ ',' UHOSNET ']\n",
    "values = [hprivite, cilnic, etc, uhosnet]\n",
    "\n",
    "# พล็อตกราฟแท่ง\n",
    "plt.bar(categories, values)\n",
    "\n",
    "# เพิ่มรายละเอียดกราฟ\n",
    "plt.title('จำนวนการใช้งานนโยบาย OP ในเขต 13 กทม. (ครั้ง)')\n",
    "plt.xlabel('ประเภทสถานบริการ')\n",
    "plt.ylabel('ครั้ง')\n",
    "\n",
    "for i, v in enumerate(values):\n",
    "    plt.text(i, v, str(v), ha='center', va='bottom')\n",
    "    \n",
    "# แสดงกราฟ\n",
    "plt.show()\n"
   ]
  },
  {
   "cell_type": "code",
   "execution_count": 28,
   "metadata": {},
   "outputs": [
    {
     "name": "stdout",
     "output_type": "stream",
     "text": [
      "   yearmonth  เขต13\n",
      "0     256501    129\n",
      "1     256502    101\n",
      "2     256503    154\n",
      "3     256504    211\n",
      "4     256505   6817\n",
      "5     256506  33445\n",
      "6     256507  23383\n",
      "7     256508  10495\n",
      "8     256509   4736\n",
      "9     256510   6361\n",
      "10    256511  10964\n",
      "11    256512  10901\n",
      "12    256601  12489\n",
      "13    256602  13263\n",
      "14    256603  14442\n",
      "15    256604   9010\n",
      "16    256605   6492\n",
      "17    256606   2532\n"
     ]
    }
   ],
   "source": [
    "# ตั้งเงื่อนไขการกรองข้อมูล\n",
    "conditions = (\n",
    "    (train_df['zone_hcode'] == 13) &\n",
    "    (train_df['status'] == 4) &\n",
    "    (train_df['sub_fund'].isin(['R9OPFS', 'WALKIN'])) &\n",
    "    (train_df['projcode'].isin(['WALKIN', 'R9OPFS'])) &\n",
    "    (train_df['cancel_payment'].isin(['N','x']))\n",
    ")\n",
    "\n",
    "# ดึงข้อมูลที่เข้าร่วมเงื่อนไข\n",
    "filtered_data = train_df[conditions]\n",
    "\n",
    "# นับจำนวนแถวตาม yearmonth\n",
    "zone_hcode_month_result = filtered_data.groupby('yearmonth').size().reset_index(name='เขต13')\n",
    "zone_hcode_month_result = zone_hcode_month_result.sort_values('yearmonth')\n",
    "\n",
    "print(zone_hcode_month_result)\n",
    "\n",
    "\n",
    "#zone_hcode_month_result"
   ]
  },
  {
   "cell_type": "code",
   "execution_count": 29,
   "metadata": {},
   "outputs": [
    {
     "data": {
      "image/png": "[encoded data removed]",
      "text/plain": [
       "<Figure size 640x480 with 1 Axes>"
      ]
     },
     "metadata": {},
     "output_type": "display_data"
    }
   ],
   "source": [
    "df = zone_hcode_month_result \n",
    "#df = df.drop(df.index[0:12])\n",
    "\n",
    "# พล็อตกราฟแท่ง\n",
    "plt.bar(range(len(df)), df['เขต13'], color='blue')\n",
    "\n",
    "# กำหนดแกน x\n",
    "plt.xticks(range(len(df)), df['yearmonth'], rotation=90)\n",
    "\n",
    "# พล็อตเส้น\n",
    "plt.plot(range(len(df)), df['เขต13'], marker='o', color='red')\n",
    "\n",
    "# เพิ่มรายละเอียดกราฟ\n",
    "plt.title(\"จำนวนครั้งการใช้นโยบาย OP Anywhere ในเขต 13 (ครั้ง)\")\n",
    "plt.xlabel(\"เวลา\")\n",
    "plt.ylabel(\"จำนวน(ครั้ง)\")\n",
    "\n",
    "# แสดงกราฟ\n",
    "plt.show()\n",
    "\n",
    "\n"
   ]
  },
  {
   "cell_type": "markdown",
   "metadata": {},
   "source": [
    "# รูปแบบการจ่ายชดเชย และ การเข้าถึงบริการ"
   ]
  },
  {
   "cell_type": "code",
   "execution_count": 30,
   "metadata": {},
   "outputs": [],
   "source": [
    "import sklearn\n",
    "import pandas as pd\n",
    "import numpy as np\n",
    "import matplotlib as plt \n",
    "train_df_agg_sum = pd.read_csv('pay_hcode_data.csv')\n",
    "train_df_export_hospital = pd.read_csv('Export_Hospital.csv')"
   ]
  },
  {
   "cell_type": "code",
   "execution_count": 31,
   "metadata": {},
   "outputs": [
    {
     "name": "stdout",
     "output_type": "stream",
     "text": [
      "   zone_hcode  จำนวนการเบิกจ่าย\n",
      "0          13       15582979.75\n"
     ]
    }
   ],
   "source": [
    "# ตั้งเงื่อนไขการกรองข้อมูล\n",
    "conditions = (\n",
    "    (train_df['zone_hcode'] == 13) &\n",
    "    (train_df['status'] == 4) &\n",
    "    (train_df['sub_fund'].isin(['R9OPFS', 'WALKIN'])) &\n",
    "    (train_df['projcode'].isin(['WALKIN', 'R9OPFS'])) &\n",
    "    (train_df['cancel_payment'].isin(['N','x']))\n",
    ")\n",
    "\n",
    "# ดึงข้อมูลที่เข้าร่วมเงื่อนไข\n",
    "filtered_data = train_df[conditions]\n",
    "\n",
    "# นับจำนวนแถวตาม yearmonth\n",
    "zone_hcode_act_sum = filtered_data.groupby('zone_hcode')['act_amt'].sum().reset_index(name='จำนวนการเบิกจ่าย')\n",
    "zone_hcode_act_sum = zone_hcode_act_sum.sort_values('zone_hcode')\n",
    "\n",
    "print(zone_hcode_act_sum)"
   ]
  },
  {
   "cell_type": "code",
   "execution_count": 32,
   "metadata": {},
   "outputs": [
    {
     "data": {
      "text/html": [
       "<div>\n",
       "<style scoped>\n",
       "    .dataframe tbody tr th:only-of-type {\n",
       "        vertical-align: middle;\n",
       "    }\n",
       "\n",
       "    .dataframe tbody tr th {\n",
       "        vertical-align: top;\n",
       "    }\n",
       "\n",
       "    .dataframe thead th {\n",
       "        text-align: right;\n",
       "    }\n",
       "</style>\n",
       "<table border=\"1\" class=\"dataframe\">\n",
       "  <thead>\n",
       "    <tr style=\"text-align: right;\">\n",
       "      <th></th>\n",
       "      <th>yearmonth</th>\n",
       "      <th>จำนวนการเบิกจ่าย</th>\n",
       "    </tr>\n",
       "  </thead>\n",
       "  <tbody>\n",
       "    <tr>\n",
       "      <th>0</th>\n",
       "      <td>256501</td>\n",
       "      <td>10650.00</td>\n",
       "    </tr>\n",
       "    <tr>\n",
       "      <th>1</th>\n",
       "      <td>256502</td>\n",
       "      <td>8782.50</td>\n",
       "    </tr>\n",
       "    <tr>\n",
       "      <th>2</th>\n",
       "      <td>256503</td>\n",
       "      <td>13235.00</td>\n",
       "    </tr>\n",
       "    <tr>\n",
       "      <th>3</th>\n",
       "      <td>256504</td>\n",
       "      <td>20647.00</td>\n",
       "    </tr>\n",
       "    <tr>\n",
       "      <th>4</th>\n",
       "      <td>256505</td>\n",
       "      <td>703575.00</td>\n",
       "    </tr>\n",
       "    <tr>\n",
       "      <th>5</th>\n",
       "      <td>256506</td>\n",
       "      <td>3045501.00</td>\n",
       "    </tr>\n",
       "    <tr>\n",
       "      <th>6</th>\n",
       "      <td>256507</td>\n",
       "      <td>1631372.00</td>\n",
       "    </tr>\n",
       "    <tr>\n",
       "      <th>7</th>\n",
       "      <td>256508</td>\n",
       "      <td>762148.00</td>\n",
       "    </tr>\n",
       "    <tr>\n",
       "      <th>8</th>\n",
       "      <td>256509</td>\n",
       "      <td>509814.50</td>\n",
       "    </tr>\n",
       "    <tr>\n",
       "      <th>9</th>\n",
       "      <td>256510</td>\n",
       "      <td>715810.00</td>\n",
       "    </tr>\n",
       "    <tr>\n",
       "      <th>10</th>\n",
       "      <td>256511</td>\n",
       "      <td>1252448.25</td>\n",
       "    </tr>\n",
       "    <tr>\n",
       "      <th>11</th>\n",
       "      <td>256512</td>\n",
       "      <td>1244276.75</td>\n",
       "    </tr>\n",
       "    <tr>\n",
       "      <th>12</th>\n",
       "      <td>256601</td>\n",
       "      <td>1368143.75</td>\n",
       "    </tr>\n",
       "    <tr>\n",
       "      <th>13</th>\n",
       "      <td>256602</td>\n",
       "      <td>1373387.00</td>\n",
       "    </tr>\n",
       "    <tr>\n",
       "      <th>14</th>\n",
       "      <td>256603</td>\n",
       "      <td>1398018.00</td>\n",
       "    </tr>\n",
       "    <tr>\n",
       "      <th>15</th>\n",
       "      <td>256604</td>\n",
       "      <td>789086.00</td>\n",
       "    </tr>\n",
       "    <tr>\n",
       "      <th>16</th>\n",
       "      <td>256605</td>\n",
       "      <td>542948.00</td>\n",
       "    </tr>\n",
       "    <tr>\n",
       "      <th>17</th>\n",
       "      <td>256606</td>\n",
       "      <td>193137.00</td>\n",
       "    </tr>\n",
       "  </tbody>\n",
       "</table>\n",
       "</div>"
      ],
      "text/plain": [
       "   yearmonth  จำนวนการเบิกจ่าย\n",
       "0     256501          10650.00\n",
       "1     256502           8782.50\n",
       "2     256503          13235.00\n",
       "3     256504          20647.00\n",
       "4     256505         703575.00\n",
       "5     256506        3045501.00\n",
       "6     256507        1631372.00\n",
       "7     256508         762148.00\n",
       "8     256509         509814.50\n",
       "9     256510         715810.00\n",
       "10    256511        1252448.25\n",
       "11    256512        1244276.75\n",
       "12    256601        1368143.75\n",
       "13    256602        1373387.00\n",
       "14    256603        1398018.00\n",
       "15    256604         789086.00\n",
       "16    256605         542948.00\n",
       "17    256606         193137.00"
      ]
     },
     "execution_count": 32,
     "metadata": {},
     "output_type": "execute_result"
    }
   ],
   "source": [
    "conditions = (\n",
    "    (train_df['zone_hcode'] == 13) &\n",
    "    (train_df['status'] == 4) &\n",
    "    (train_df['sub_fund'].isin(['R9OPFS', 'WALKIN'])) &\n",
    "    (train_df['projcode'].isin(['WALKIN', 'R9OPFS'])) &\n",
    "    (train_df['cancel_payment'].isin(['N','x']))\n",
    ")\n",
    "\n",
    "filtered_data = train_df[conditions]\n",
    "month_year_act_sum = filtered_data.groupby('yearmonth')['act_amt'].sum().reset_index(name='จำนวนการเบิกจ่าย')\n",
    "month_year_act_sum = month_year_act_sum.sort_values('yearmonth')\n",
    "\n",
    "month_year_act_sum"
   ]
  },
  {
   "cell_type": "code",
   "execution_count": 33,
   "metadata": {},
   "outputs": [
    {
     "data": {
      "text/html": [
       "<div>\n",
       "<style scoped>\n",
       "    .dataframe tbody tr th:only-of-type {\n",
       "        vertical-align: middle;\n",
       "    }\n",
       "\n",
       "    .dataframe tbody tr th {\n",
       "        vertical-align: top;\n",
       "    }\n",
       "\n",
       "    .dataframe thead th {\n",
       "        text-align: right;\n",
       "    }\n",
       "</style>\n",
       "<table border=\"1\" class=\"dataframe\">\n",
       "  <thead>\n",
       "    <tr style=\"text-align: right;\">\n",
       "      <th></th>\n",
       "      <th>year</th>\n",
       "      <th>จำนวนการเบิกจ่าย</th>\n",
       "    </tr>\n",
       "  </thead>\n",
       "  <tbody>\n",
       "    <tr>\n",
       "      <th>0</th>\n",
       "      <td>2565</td>\n",
       "      <td>9918260.00</td>\n",
       "    </tr>\n",
       "    <tr>\n",
       "      <th>1</th>\n",
       "      <td>2566</td>\n",
       "      <td>5664719.75</td>\n",
       "    </tr>\n",
       "  </tbody>\n",
       "</table>\n",
       "</div>"
      ],
      "text/plain": [
       "   year  จำนวนการเบิกจ่าย\n",
       "0  2565        9918260.00\n",
       "1  2566        5664719.75"
      ]
     },
     "execution_count": 33,
     "metadata": {},
     "output_type": "execute_result"
    }
   ],
   "source": [
    "conditions = (\n",
    "    (train_df['zone_hcode'] == 13) &\n",
    "    (train_df['status'] == 4) &\n",
    "    (train_df['sub_fund'].isin(['R9OPFS', 'WALKIN'])) &\n",
    "    (train_df['projcode'].isin(['WALKIN', 'R9OPFS'])) &\n",
    "    (train_df['cancel_payment'].isin(['N','x']))\n",
    ")\n",
    "\n",
    "filtered_data = train_df[conditions]\n",
    "year_act_sum = filtered_data.groupby('year')['act_amt'].sum().reset_index(name='จำนวนการเบิกจ่าย')\n",
    "year_act_sum = year_act_sum.sort_values('year')\n",
    "\n",
    "year_act_sum"
   ]
  },
  {
   "cell_type": "markdown",
   "metadata": {},
   "source": [
    "# Missing Value"
   ]
  },
  {
   "cell_type": "code",
   "execution_count": 34,
   "metadata": {},
   "outputs": [
    {
     "name": "stdout",
     "output_type": "stream",
     "text": [
      "TRAIN SET MISSING VALUES:\n",
      "source                       0\n",
      "stmt_period                  0\n",
      "status                       0\n",
      "tran_id                      0\n",
      "demand_claim_opd       1982423\n",
      "projcode                     0\n",
      "status_cardb              2040\n",
      "person_type                  0\n",
      "pid                          0\n",
      "sex                          0\n",
      "drg_nhso               3143733\n",
      "age                          0\n",
      "age_cal                      0\n",
      "htype_use                    0\n",
      "hcode                        0\n",
      "htype                        0\n",
      "prov1                        0\n",
      "zone_hcode                   0\n",
      "hmain2                     819\n",
      "prov2                      819\n",
      "zone_hmain2                819\n",
      "dateadm                      0\n",
      "datedsc                      0\n",
      "month_serv                   0\n",
      "year_serv                    0\n",
      "date_send                    0\n",
      "month_send                   0\n",
      "year_send                    0\n",
      "hmain_refer_in         3111485\n",
      "hmain_refer_out        3132220\n",
      "pdx                          0\n",
      "sdx1                   2149559\n",
      "proc1                  2426902\n",
      "rw_nhso                3143733\n",
      "adjrw_nhso             3143733\n",
      "sums_serviceitem             0\n",
      "fund_af                     33\n",
      "sub_fund                     0\n",
      "item_code                    0\n",
      "item_source                 33\n",
      "cancel_payment               0\n",
      "base_rate_type           37607\n",
      "sev_group               547423\n",
      "item_req_qty            532464\n",
      "item_pay_qty            532464\n",
      "charge_rule                 33\n",
      "pre_payment_act_amt         33\n",
      "totl_amt                    33\n",
      "act_amt                     33\n",
      "pay_all                     33\n",
      "budgetcode                8569\n",
      "maininscl_af                 0\n",
      "subinscl_af              20404\n",
      "chkflag_af                 906\n",
      "d_update                     0\n",
      "year                         0\n",
      "month                        0\n",
      "day                          0\n",
      "yearmonth                    0\n",
      "dtype: int64\n"
     ]
    }
   ],
   "source": [
    "print('TRAIN SET MISSING VALUES:')\n",
    "print(train_df.isna().sum())"
   ]
  },
  {
   "cell_type": "code",
   "execution_count": 35,
   "metadata": {},
   "outputs": [
    {
     "data": {
      "text/html": [
       "<div>\n",
       "<style scoped>\n",
       "    .dataframe tbody tr th:only-of-type {\n",
       "        vertical-align: middle;\n",
       "    }\n",
       "\n",
       "    .dataframe tbody tr th {\n",
       "        vertical-align: top;\n",
       "    }\n",
       "\n",
       "    .dataframe thead th {\n",
       "        text-align: right;\n",
       "    }\n",
       "</style>\n",
       "<table border=\"1\" class=\"dataframe\">\n",
       "  <thead>\n",
       "    <tr style=\"text-align: right;\">\n",
       "      <th></th>\n",
       "      <th>Number_missing</th>\n",
       "      <th>Percentage_missing</th>\n",
       "    </tr>\n",
       "  </thead>\n",
       "  <tbody>\n",
       "    <tr>\n",
       "      <th>demand_claim_opd</th>\n",
       "      <td>1982423</td>\n",
       "      <td>63.06</td>\n",
       "    </tr>\n",
       "    <tr>\n",
       "      <th>status_cardb</th>\n",
       "      <td>2040</td>\n",
       "      <td>0.06</td>\n",
       "    </tr>\n",
       "    <tr>\n",
       "      <th>drg_nhso</th>\n",
       "      <td>3143733</td>\n",
       "      <td>100.00</td>\n",
       "    </tr>\n",
       "    <tr>\n",
       "      <th>hmain2</th>\n",
       "      <td>819</td>\n",
       "      <td>0.03</td>\n",
       "    </tr>\n",
       "    <tr>\n",
       "      <th>prov2</th>\n",
       "      <td>819</td>\n",
       "      <td>0.03</td>\n",
       "    </tr>\n",
       "    <tr>\n",
       "      <th>zone_hmain2</th>\n",
       "      <td>819</td>\n",
       "      <td>0.03</td>\n",
       "    </tr>\n",
       "    <tr>\n",
       "      <th>hmain_refer_in</th>\n",
       "      <td>3111485</td>\n",
       "      <td>98.97</td>\n",
       "    </tr>\n",
       "    <tr>\n",
       "      <th>hmain_refer_out</th>\n",
       "      <td>3132220</td>\n",
       "      <td>99.63</td>\n",
       "    </tr>\n",
       "    <tr>\n",
       "      <th>sdx1</th>\n",
       "      <td>2149559</td>\n",
       "      <td>68.38</td>\n",
       "    </tr>\n",
       "    <tr>\n",
       "      <th>proc1</th>\n",
       "      <td>2426902</td>\n",
       "      <td>77.20</td>\n",
       "    </tr>\n",
       "    <tr>\n",
       "      <th>rw_nhso</th>\n",
       "      <td>3143733</td>\n",
       "      <td>100.00</td>\n",
       "    </tr>\n",
       "    <tr>\n",
       "      <th>adjrw_nhso</th>\n",
       "      <td>3143733</td>\n",
       "      <td>100.00</td>\n",
       "    </tr>\n",
       "    <tr>\n",
       "      <th>fund_af</th>\n",
       "      <td>33</td>\n",
       "      <td>0.00</td>\n",
       "    </tr>\n",
       "    <tr>\n",
       "      <th>item_source</th>\n",
       "      <td>33</td>\n",
       "      <td>0.00</td>\n",
       "    </tr>\n",
       "    <tr>\n",
       "      <th>base_rate_type</th>\n",
       "      <td>37607</td>\n",
       "      <td>1.20</td>\n",
       "    </tr>\n",
       "    <tr>\n",
       "      <th>sev_group</th>\n",
       "      <td>547423</td>\n",
       "      <td>17.41</td>\n",
       "    </tr>\n",
       "    <tr>\n",
       "      <th>item_req_qty</th>\n",
       "      <td>532464</td>\n",
       "      <td>16.94</td>\n",
       "    </tr>\n",
       "    <tr>\n",
       "      <th>item_pay_qty</th>\n",
       "      <td>532464</td>\n",
       "      <td>16.94</td>\n",
       "    </tr>\n",
       "    <tr>\n",
       "      <th>charge_rule</th>\n",
       "      <td>33</td>\n",
       "      <td>0.00</td>\n",
       "    </tr>\n",
       "    <tr>\n",
       "      <th>pre_payment_act_amt</th>\n",
       "      <td>33</td>\n",
       "      <td>0.00</td>\n",
       "    </tr>\n",
       "    <tr>\n",
       "      <th>totl_amt</th>\n",
       "      <td>33</td>\n",
       "      <td>0.00</td>\n",
       "    </tr>\n",
       "    <tr>\n",
       "      <th>act_amt</th>\n",
       "      <td>33</td>\n",
       "      <td>0.00</td>\n",
       "    </tr>\n",
       "    <tr>\n",
       "      <th>pay_all</th>\n",
       "      <td>33</td>\n",
       "      <td>0.00</td>\n",
       "    </tr>\n",
       "    <tr>\n",
       "      <th>budgetcode</th>\n",
       "      <td>8569</td>\n",
       "      <td>0.27</td>\n",
       "    </tr>\n",
       "    <tr>\n",
       "      <th>subinscl_af</th>\n",
       "      <td>20404</td>\n",
       "      <td>0.65</td>\n",
       "    </tr>\n",
       "    <tr>\n",
       "      <th>chkflag_af</th>\n",
       "      <td>906</td>\n",
       "      <td>0.03</td>\n",
       "    </tr>\n",
       "  </tbody>\n",
       "</table>\n",
       "</div>"
      ],
      "text/plain": [
       "                     Number_missing  Percentage_missing\n",
       "demand_claim_opd            1982423               63.06\n",
       "status_cardb                   2040                0.06\n",
       "drg_nhso                    3143733              100.00\n",
       "hmain2                          819                0.03\n",
       "prov2                           819                0.03\n",
       "zone_hmain2                     819                0.03\n",
       "hmain_refer_in              3111485               98.97\n",
       "hmain_refer_out             3132220               99.63\n",
       "sdx1                        2149559               68.38\n",
       "proc1                       2426902               77.20\n",
       "rw_nhso                     3143733              100.00\n",
       "adjrw_nhso                  3143733              100.00\n",
       "fund_af                          33                0.00\n",
       "item_source                      33                0.00\n",
       "base_rate_type                37607                1.20\n",
       "sev_group                    547423               17.41\n",
       "item_req_qty                 532464               16.94\n",
       "item_pay_qty                 532464               16.94\n",
       "charge_rule                      33                0.00\n",
       "pre_payment_act_amt              33                0.00\n",
       "totl_amt                         33                0.00\n",
       "act_amt                          33                0.00\n",
       "pay_all                          33                0.00\n",
       "budgetcode                     8569                0.27\n",
       "subinscl_af                   20404                0.65\n",
       "chkflag_af                      906                0.03"
      ]
     },
     "execution_count": 35,
     "metadata": {},
     "output_type": "execute_result"
    }
   ],
   "source": [
    "#Explore missing values\n",
    "na_cols=train_df.columns[train_df.isna().any()].tolist()\n",
    "\n",
    "mv=pd.DataFrame(train_df[na_cols].isna().sum(), columns=['Number_missing'])\n",
    "mv['Percentage_missing']=np.round(100*mv['Number_missing']/len(train_df),2)\n",
    "mv"
   ]
  },
  {
   "cell_type": "code",
   "execution_count": 36,
   "metadata": {},
   "outputs": [],
   "source": [
    "# train_df= train_df.drop('drg_nhso', axis=1)\n",
    "# train_df= train_df.drop('rw_nhso', axis=1)\n",
    "# train_df= train_df.drop('adjrw_nhso', axis=1)\n",
    "# train_df= train_df.drop('hmain_refer_in', axis=1)\n",
    "# train_df= train_df.drop('hmain_refer_out', axis=1)"
   ]
  },
  {
   "cell_type": "code",
   "execution_count": 37,
   "metadata": {},
   "outputs": [
    {
     "name": "stdout",
     "output_type": "stream",
     "text": [
      "TRAIN SET MISSING VALUES AFTER:\n",
      "source                       0\n",
      "stmt_period                  0\n",
      "status                       0\n",
      "tran_id                      0\n",
      "demand_claim_opd       1982423\n",
      "projcode                     0\n",
      "status_cardb              2040\n",
      "person_type                  0\n",
      "pid                          0\n",
      "sex                          0\n",
      "drg_nhso               3143733\n",
      "age                          0\n",
      "age_cal                      0\n",
      "htype_use                    0\n",
      "hcode                        0\n",
      "htype                        0\n",
      "prov1                        0\n",
      "zone_hcode                   0\n",
      "hmain2                     819\n",
      "prov2                      819\n",
      "zone_hmain2                819\n",
      "dateadm                      0\n",
      "datedsc                      0\n",
      "month_serv                   0\n",
      "year_serv                    0\n",
      "date_send                    0\n",
      "month_send                   0\n",
      "year_send                    0\n",
      "hmain_refer_in         3111485\n",
      "hmain_refer_out        3132220\n",
      "pdx                          0\n",
      "sdx1                   2149559\n",
      "proc1                  2426902\n",
      "rw_nhso                3143733\n",
      "adjrw_nhso             3143733\n",
      "sums_serviceitem             0\n",
      "fund_af                     33\n",
      "sub_fund                     0\n",
      "item_code                    0\n",
      "item_source                 33\n",
      "cancel_payment               0\n",
      "base_rate_type           37607\n",
      "sev_group               547423\n",
      "item_req_qty            532464\n",
      "item_pay_qty            532464\n",
      "charge_rule                 33\n",
      "pre_payment_act_amt         33\n",
      "totl_amt                    33\n",
      "act_amt                     33\n",
      "pay_all                     33\n",
      "budgetcode                8569\n",
      "maininscl_af                 0\n",
      "subinscl_af              20404\n",
      "chkflag_af                 906\n",
      "d_update                     0\n",
      "year                         0\n",
      "month                        0\n",
      "day                          0\n",
      "yearmonth                    0\n",
      "dtype: int64\n"
     ]
    }
   ],
   "source": [
    "# train_df.nunique().sort_values(ascending=False)\n",
    "print('TRAIN SET MISSING VALUES AFTER:')\n",
    "print(train_df.isna().sum())\n"
   ]
  },
  {
   "cell_type": "code",
   "execution_count": 38,
   "metadata": {},
   "outputs": [
    {
     "data": {
      "text/plain": [
       "source                      2\n",
       "stmt_period                51\n",
       "status                      1\n",
       "tran_id                661648\n",
       "demand_claim_opd           13\n",
       "projcode                    3\n",
       "status_cardb               10\n",
       "person_type                 1\n",
       "pid                    458731\n",
       "sex                         2\n",
       "drg_nhso                    0\n",
       "age                       112\n",
       "age_cal                   112\n",
       "htype_use                   8\n",
       "hcode                    2609\n",
       "htype                       5\n",
       "prov1                      77\n",
       "zone_hcode                 13\n",
       "hmain2                   2235\n",
       "prov2                     157\n",
       "zone_hmain2                15\n",
       "dateadm                   896\n",
       "datedsc                   896\n",
       "month_serv                 30\n",
       "year_serv                   3\n",
       "date_send                 860\n",
       "month_send                 30\n",
       "year_send                   3\n",
       "hmain_refer_in            525\n",
       "hmain_refer_out           249\n",
       "pdx                      6904\n",
       "sdx1                    24822\n",
       "proc1                    9912\n",
       "rw_nhso                     0\n",
       "adjrw_nhso                  0\n",
       "sums_serviceitem        18206\n",
       "fund_af                    24\n",
       "sub_fund                   66\n",
       "item_code               32653\n",
       "item_source                12\n",
       "cancel_payment              3\n",
       "base_rate_type              2\n",
       "sev_group                  18\n",
       "item_req_qty              428\n",
       "item_pay_qty              426\n",
       "charge_rule                 1\n",
       "pre_payment_act_amt         1\n",
       "totl_amt                 4747\n",
       "act_amt                  3902\n",
       "pay_all                  3902\n",
       "budgetcode                 47\n",
       "maininscl_af                9\n",
       "subinscl_af                78\n",
       "chkflag_af                  8\n",
       "d_update                    1\n",
       "year                        3\n",
       "month                      12\n",
       "day                        31\n",
       "yearmonth                  30\n",
       "dtype: int64"
      ]
     },
     "execution_count": 38,
     "metadata": {},
     "output_type": "execute_result"
    }
   ],
   "source": [
    "train_df.nunique()"
   ]
  },
  {
   "cell_type": "code",
   "execution_count": 39,
   "metadata": {},
   "outputs": [
    {
     "name": "stdout",
     "output_type": "stream",
     "text": [
      "N||     631657\n",
      "||      418420\n",
      "E||      98117\n",
      "Z||       5884\n",
      "O||       3591\n",
      "R||       2816\n",
      "I||        484\n",
      "A||        305\n",
      "||I         14\n",
      "C||         13\n",
      "P||          4\n",
      "E||I         3\n",
      "|H|          2\n",
      "Name: demand_claim_opd, dtype: int64\n"
     ]
    }
   ],
   "source": [
    "count_demand_claim_opd = train_df['demand_claim_opd'].value_counts()\n",
    "print(count_demand_claim_opd)"
   ]
  },
  {
   "cell_type": "markdown",
   "metadata": {},
   "source": [
    "# จัดการ Missing Value Hosmap"
   ]
  },
  {
   "cell_type": "code",
   "execution_count": 41,
   "metadata": {},
   "outputs": [],
   "source": [
    "train_df_hosmap = pd.read_csv('v_l_hosmap.csv')"
   ]
  },
  {
   "cell_type": "code",
   "execution_count": 42,
   "metadata": {},
   "outputs": [
    {
     "data": {
      "text/plain": [
       "hcode                    6001\n",
       "hname                    5752\n",
       "hlevel                      5\n",
       "hclass                     73\n",
       "drug_store                  1\n",
       "clinic                      1\n",
       "clinic_lab                  1\n",
       "private_hospital            1\n",
       "datein                    579\n",
       "datein_fyear               19\n",
       "dateout                     0\n",
       "htype                       5\n",
       "htype_name                  5\n",
       "subtype                    27\n",
       "sub_type_name              25\n",
       "sub_type_name_uhosnet       6\n",
       "innovation_unit           697\n",
       "uhosnet                     1\n",
       "status_uc                   7\n",
       "catm6                     194\n",
       "province_id                 7\n",
       "prov                        7\n",
       "ampr                       51\n",
       "tumbon                    177\n",
       "nhso_zone                   6\n",
       "nhso_zonename               6\n",
       "latitude                  259\n",
       "longitude                 257\n",
       "ingest_tm                   1\n",
       "dtype: int64"
      ]
     },
     "execution_count": 42,
     "metadata": {},
     "output_type": "execute_result"
    }
   ],
   "source": [
    "train_df_hosmap.nunique()"
   ]
  },
  {
   "cell_type": "code",
   "execution_count": 43,
   "metadata": {},
   "outputs": [
    {
     "name": "stdout",
     "output_type": "stream",
     "text": [
      "TRAIN SET MISSING VALUES AFTER:\n",
      "hcode                       0\n",
      "hname                       0\n",
      "hlevel                      3\n",
      "hclass                     60\n",
      "drug_store               5304\n",
      "clinic                   5994\n",
      "clinic_lab               5951\n",
      "private_hospital         5860\n",
      "datein                     60\n",
      "datein_fyear               60\n",
      "dateout                  6001\n",
      "htype                       0\n",
      "htype_name                  0\n",
      "subtype                     0\n",
      "sub_type_name               0\n",
      "sub_type_name_uhosnet       0\n",
      "innovation_unit          5304\n",
      "uhosnet                  5994\n",
      "status_uc                   0\n",
      "catm6                       0\n",
      "province_id                 0\n",
      "prov                        0\n",
      "ampr                        0\n",
      "tumbon                      0\n",
      "nhso_zone                   0\n",
      "nhso_zonename               0\n",
      "latitude                 5697\n",
      "longitude                5697\n",
      "ingest_tm                   0\n",
      "dtype: int64\n"
     ]
    }
   ],
   "source": [
    "print('TRAIN SET MISSING VALUES AFTER:')\n",
    "print(train_df_hosmap.isna().sum())"
   ]
  },
  {
   "cell_type": "code",
   "execution_count": 44,
   "metadata": {},
   "outputs": [
    {
     "data": {
      "text/html": [
       "<div>\n",
       "<style scoped>\n",
       "    .dataframe tbody tr th:only-of-type {\n",
       "        vertical-align: middle;\n",
       "    }\n",
       "\n",
       "    .dataframe tbody tr th {\n",
       "        vertical-align: top;\n",
       "    }\n",
       "\n",
       "    .dataframe thead th {\n",
       "        text-align: right;\n",
       "    }\n",
       "</style>\n",
       "<table border=\"1\" class=\"dataframe\">\n",
       "  <thead>\n",
       "    <tr style=\"text-align: right;\">\n",
       "      <th></th>\n",
       "      <th>Number_missing</th>\n",
       "      <th>Percentage_missing</th>\n",
       "    </tr>\n",
       "  </thead>\n",
       "  <tbody>\n",
       "    <tr>\n",
       "      <th>hlevel</th>\n",
       "      <td>3</td>\n",
       "      <td>0.05</td>\n",
       "    </tr>\n",
       "    <tr>\n",
       "      <th>hclass</th>\n",
       "      <td>60</td>\n",
       "      <td>1.00</td>\n",
       "    </tr>\n",
       "    <tr>\n",
       "      <th>drug_store</th>\n",
       "      <td>5304</td>\n",
       "      <td>88.39</td>\n",
       "    </tr>\n",
       "    <tr>\n",
       "      <th>clinic</th>\n",
       "      <td>5994</td>\n",
       "      <td>99.88</td>\n",
       "    </tr>\n",
       "    <tr>\n",
       "      <th>clinic_lab</th>\n",
       "      <td>5951</td>\n",
       "      <td>99.17</td>\n",
       "    </tr>\n",
       "    <tr>\n",
       "      <th>private_hospital</th>\n",
       "      <td>5860</td>\n",
       "      <td>97.65</td>\n",
       "    </tr>\n",
       "    <tr>\n",
       "      <th>datein</th>\n",
       "      <td>60</td>\n",
       "      <td>1.00</td>\n",
       "    </tr>\n",
       "    <tr>\n",
       "      <th>datein_fyear</th>\n",
       "      <td>60</td>\n",
       "      <td>1.00</td>\n",
       "    </tr>\n",
       "    <tr>\n",
       "      <th>dateout</th>\n",
       "      <td>6001</td>\n",
       "      <td>100.00</td>\n",
       "    </tr>\n",
       "    <tr>\n",
       "      <th>innovation_unit</th>\n",
       "      <td>5304</td>\n",
       "      <td>88.39</td>\n",
       "    </tr>\n",
       "    <tr>\n",
       "      <th>uhosnet</th>\n",
       "      <td>5994</td>\n",
       "      <td>99.88</td>\n",
       "    </tr>\n",
       "    <tr>\n",
       "      <th>latitude</th>\n",
       "      <td>5697</td>\n",
       "      <td>94.93</td>\n",
       "    </tr>\n",
       "    <tr>\n",
       "      <th>longitude</th>\n",
       "      <td>5697</td>\n",
       "      <td>94.93</td>\n",
       "    </tr>\n",
       "  </tbody>\n",
       "</table>\n",
       "</div>"
      ],
      "text/plain": [
       "                  Number_missing  Percentage_missing\n",
       "hlevel                         3                0.05\n",
       "hclass                        60                1.00\n",
       "drug_store                  5304               88.39\n",
       "clinic                      5994               99.88\n",
       "clinic_lab                  5951               99.17\n",
       "private_hospital            5860               97.65\n",
       "datein                        60                1.00\n",
       "datein_fyear                  60                1.00\n",
       "dateout                     6001              100.00\n",
       "innovation_unit             5304               88.39\n",
       "uhosnet                     5994               99.88\n",
       "latitude                    5697               94.93\n",
       "longitude                   5697               94.93"
      ]
     },
     "execution_count": 44,
     "metadata": {},
     "output_type": "execute_result"
    }
   ],
   "source": [
    "#Explore missing values\n",
    "hosmap=train_df_hosmap.columns[train_df_hosmap.isna().any()].tolist()\n",
    "mv=pd.DataFrame(train_df_hosmap[hosmap].isna().sum(), columns=['Number_missing'])\n",
    "mv['Percentage_missing']=np.round(100*mv['Number_missing']/len(train_df_hosmap),2)\n",
    "mv"
   ]
  },
  {
   "cell_type": "markdown",
   "metadata": {},
   "source": [
    "drug_store คือร้านยา มีทั้งหมด 697 แห่ง"
   ]
  },
  {
   "cell_type": "code",
   "execution_count": 45,
   "metadata": {},
   "outputs": [
    {
     "name": "stdout",
     "output_type": "stream",
     "text": [
      "0.0    5304\n",
      "1.0     697\n",
      "Name: drug_store, dtype: int64\n"
     ]
    }
   ],
   "source": [
    "# Assuming 'train_df_hosmap' is your DataFrame\n",
    "train_df_hosmap['drug_store'].fillna(0, inplace=True)  # Fill missing values with 0\n",
    "drug_store = train_df_hosmap['drug_store'].value_counts()\n",
    "print(drug_store)"
   ]
  },
  {
   "cell_type": "markdown",
   "metadata": {},
   "source": [
    "รหัสที่มีเฉพาะร้านขายยา (ขึ้นต้นด้วย D)"
   ]
  },
  {
   "cell_type": "code",
   "execution_count": 46,
   "metadata": {},
   "outputs": [
    {
     "data": {
      "text/plain": [
       "NULL     5304\n",
       "D1016       1\n",
       "D0029       1\n",
       "D0030       1\n",
       "D0605       1\n",
       "         ... \n",
       "D0859       1\n",
       "D0058       1\n",
       "D1507       1\n",
       "D1554       1\n",
       "D0608       1\n",
       "Name: innovation_unit, Length: 698, dtype: int64"
      ]
     },
     "execution_count": 46,
     "metadata": {},
     "output_type": "execute_result"
    }
   ],
   "source": [
    "train_df_hosmap['innovation_unit'].fillna('NULL', inplace=True)\n",
    "innovation_unit\t= train_df_hosmap['innovation_unit'].value_counts()\n",
    "innovation_unit\t"
   ]
  },
  {
   "cell_type": "markdown",
   "metadata": {},
   "source": [
    "clinic คือคลินิกบริการผดุงครรภ์ มีทั้งหมด 7 แห่ง"
   ]
  },
  {
   "cell_type": "code",
   "execution_count": 47,
   "metadata": {},
   "outputs": [
    {
     "name": "stdout",
     "output_type": "stream",
     "text": [
      "0.0    5994\n",
      "1.0       7\n",
      "Name: clinic, dtype: int64\n"
     ]
    }
   ],
   "source": [
    "train_df_hosmap['clinic'].fillna(0, inplace=True)  # Fill missing values with 0\n",
    "clinic = train_df_hosmap['clinic'].value_counts()\n",
    "print(clinic)"
   ]
  },
  {
   "cell_type": "markdown",
   "metadata": {},
   "source": [
    "clinic_lab คือคลินิกเทคนิคการแพทย์ มีทั้งหมด 50 แห่ง"
   ]
  },
  {
   "cell_type": "code",
   "execution_count": 48,
   "metadata": {},
   "outputs": [
    {
     "name": "stdout",
     "output_type": "stream",
     "text": [
      "0.0    5951\n",
      "1.0      50\n",
      "Name: clinic_lab, dtype: int64\n"
     ]
    }
   ],
   "source": [
    "train_df_hosmap['clinic_lab'].fillna(0, inplace=True)\n",
    "clinic_lab = train_df_hosmap['clinic_lab'].value_counts()\n",
    "print(clinic_lab)"
   ]
  },
  {
   "cell_type": "markdown",
   "metadata": {},
   "source": [
    "private_hospital คือโรงพยาบาลเอกชน มีทั้งหมด 141 แห่ง"
   ]
  },
  {
   "cell_type": "code",
   "execution_count": 49,
   "metadata": {},
   "outputs": [
    {
     "data": {
      "text/plain": [
       "0.0    5860\n",
       "1.0     141\n",
       "Name: private_hospital, dtype: int64"
      ]
     },
     "execution_count": 49,
     "metadata": {},
     "output_type": "execute_result"
    }
   ],
   "source": [
    "train_df_hosmap['private_hospital'].fillna(0, inplace=True)\n",
    "private_hospital = train_df_hosmap['private_hospital'].value_counts()\n",
    "private_hospital"
   ]
  },
  {
   "cell_type": "markdown",
   "metadata": {},
   "source": [
    "drop column dateout"
   ]
  },
  {
   "cell_type": "code",
   "execution_count": 50,
   "metadata": {},
   "outputs": [],
   "source": [
    "#train_df_hosmap= train_df_hosmap.drop('dateout', axis=1)"
   ]
  },
  {
   "cell_type": "markdown",
   "metadata": {},
   "source": [
    "uhosnet คือโรงพยาบาลในเครือ UHOSNET มีทั้งหมด 7 โรงพยาบาลได้แก่ รพ.วชิรโรงพยาบาล คณะแพทย์ศาสตร์วชิรพยาบาล มหาวิทยาลัยนวมินทราธิราช , รพ.ศิริราช ,รพ.รามาธิบดี  มหาวิทยาลัยมหิดล , รพ.จุฬาลงกรณ์สภากาชาดไทย , สถาบันสุขภาพเด็กแห่งชาติมหาราชินี , รพ.ราชวิถี , รพ.พระมงกุฎเกล้า"
   ]
  },
  {
   "cell_type": "code",
   "execution_count": 51,
   "metadata": {},
   "outputs": [
    {
     "data": {
      "text/plain": [
       "NULL       5994\n",
       "UHOSNET       7\n",
       "Name: uhosnet, dtype: int64"
      ]
     },
     "execution_count": 51,
     "metadata": {},
     "output_type": "execute_result"
    }
   ],
   "source": [
    "train_df_hosmap['uhosnet'].fillna('NULL', inplace=True) #ช่องว่างให้เพิ่มเป็นคำว่า NULL แทน\n",
    "uhosnet\t= train_df_hosmap['uhosnet'].value_counts()\n",
    "uhosnet\t"
   ]
  },
  {
   "cell_type": "markdown",
   "metadata": {},
   "source": [
    "จัดการกับ Missing Value ของ hlevel"
   ]
  },
  {
   "cell_type": "code",
   "execution_count": 52,
   "metadata": {},
   "outputs": [
    {
     "data": {
      "text/plain": [
       "36.0    5769\n",
       "37.0     140\n",
       "38.0      53\n",
       "39.0      23\n",
       "35.0      13\n",
       "NULL       3\n",
       "Name: hlevel, dtype: int64"
      ]
     },
     "execution_count": 52,
     "metadata": {},
     "output_type": "execute_result"
    }
   ],
   "source": [
    "train_df_hosmap['hlevel'].fillna('NULL', inplace=True) #ช่องว่างให้เพิ่มเป็นคำว่า NULL แทน\n",
    "hlevel = train_df_hosmap['hlevel'].value_counts()\n",
    "hlevel"
   ]
  },
  {
   "cell_type": "code",
   "execution_count": 53,
   "metadata": {},
   "outputs": [],
   "source": [
    "# เช็ค hlevel missing value\n",
    "filtered_hlevel = train_df_hosmap[train_df_hosmap['hlevel'] == 'NULL']"
   ]
  },
  {
   "cell_type": "markdown",
   "metadata": {},
   "source": [
    "แทนค่า hlevel ที่ว่างคือ คลินิกเวชกรรมเกษมราษฎร์ สาขาจันทรเกษม , คลินิกเวชกรรมจรัญสนิทวงศ์ 83/1 , วัตสัน ฟาร์มาซี สาขาโลตัส พระราม 4 ทั้งสามเป็นคลินิกและร้านขายยาซึ่งจัดอยู่ในหมวดหมู่ hlevel=36 "
   ]
  },
  {
   "cell_type": "code",
   "execution_count": 54,
   "metadata": {},
   "outputs": [],
   "source": [
    "#แทนค่า เปลี่ยนแปลงค่าในตาราง\n",
    "if train_df_hosmap.at[1744, 'hlevel'] == 'NULL':\n",
    "    train_df_hosmap.at[1744, 'hlevel'] = 36.0\n",
    "\n",
    "if train_df_hosmap.at[1322, 'hlevel'] == 'NULL':\n",
    "    train_df_hosmap.at[1322, 'hlevel'] = 36.0\n",
    "\n",
    "if train_df_hosmap.at[5473, 'hlevel'] == 'NULL':\n",
    "    train_df_hosmap.at[5473, 'hlevel'] = 36.0"
   ]
  },
  {
   "cell_type": "markdown",
   "metadata": {},
   "source": [
    "แบ่ง Catm ออกมาเป็น 3 คอลัมน์ได้ดังนี้ จังหวัด ,เขต ,แขวง"
   ]
  },
  {
   "cell_type": "code",
   "execution_count": 55,
   "metadata": {},
   "outputs": [
    {
     "name": "stdout",
     "output_type": "stream",
     "text": [
      "     จังหวัด เขต แขวง\n",
      "0         10  41   01\n",
      "1         10  00   00\n",
      "2         10  00   00\n",
      "3         10  00   00\n",
      "4         10  00   00\n",
      "...      ...  ..  ...\n",
      "5996      10  42   03\n",
      "5997      10  04   03\n",
      "5998      10  06   08\n",
      "5999      10  37   01\n",
      "6000      10  50   01\n",
      "\n",
      "[6001 rows x 3 columns]\n"
     ]
    }
   ],
   "source": [
    "# Convert 'dateadm' column to string format\n",
    "train_df_hosmap['catm6'] = train_df_hosmap['catm6'].astype(str)\n",
    "\n",
    "# Extract year, month, and day from 'dateadm' column 20220720 // 103901\n",
    "train_df_hosmap['จังหวัด'] = train_df_hosmap['catm6'].str[:2]\n",
    "train_df_hosmap['เขต'] = train_df_hosmap['catm6'].str[2:4]\n",
    "train_df_hosmap['แขวง'] = train_df_hosmap['catm6'].str[4:]\n",
    "\n",
    "# Print the modified DataFrame\n",
    "print(train_df_hosmap[['จังหวัด', 'เขต', 'แขวง']])"
   ]
  },
  {
   "cell_type": "markdown",
   "metadata": {},
   "source": []
  },
  {
   "cell_type": "code",
   "execution_count": 56,
   "metadata": {},
   "outputs": [],
   "source": [
    "train_df_hosmap['hcode'] = pd.to_numeric(train_df_hosmap['hcode'], errors='coerce')"
   ]
  }
 ],
 "metadata": {
  "kernelspec": {
   "display_name": "Python 3",
   "language": "python",
   "name": "python3"
  },
  "language_info": {
   "codemirror_mode": {
    "name": "ipython",
    "version": 3
   },
   "file_extension": ".py",
   "mimetype": "text/x-python",
   "name": "python",
   "nbconvert_exporter": "python",
   "pygments_lexer": "ipython3",
   "version": "3.11.3"
  },
  "orig_nbformat": 4
 },
 "nbformat": 4,
 "nbformat_minor": 2
}
